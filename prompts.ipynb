{
  "nbformat": 4,
  "nbformat_minor": 0,
  "metadata": {
    "colab": {
      "provenance": []
    },
    "kernelspec": {
      "name": "python3",
      "display_name": "Python 3"
    },
    "language_info": {
      "name": "python"
    }
  },
  "cells": [
    {
      "cell_type": "markdown",
      "source": [
        "### Authenticate"
      ],
      "metadata": {
        "id": "5nNfNuM6NUG2"
      }
    },
    {
      "cell_type": "code",
      "execution_count": 44,
      "metadata": {
        "id": "nsYp1NxgJ3wS"
      },
      "outputs": [],
      "source": [
        "from google.colab import auth\n",
        "auth.authenticate_user()"
      ]
    },
    {
      "cell_type": "markdown",
      "source": [
        "### Install requirements"
      ],
      "metadata": {
        "id": "QGoVY2nWNb77"
      }
    },
    {
      "cell_type": "code",
      "source": [
        "!pip install -qU langchain-google-vertexai\n",
        "!pip install langchain_community langchain"
      ],
      "metadata": {
        "colab": {
          "base_uri": "https://localhost:8080/"
        },
        "id": "086kzeosJ6N_",
        "outputId": "7edca033-eeba-4f84-b55e-a00cbfedc705"
      },
      "execution_count": 45,
      "outputs": [
        {
          "output_type": "stream",
          "name": "stdout",
          "text": [
            "Requirement already satisfied: langchain_community in /usr/local/lib/python3.10/dist-packages (0.2.7)\n",
            "Requirement already satisfied: langchain in /usr/local/lib/python3.10/dist-packages (0.2.7)\n",
            "Requirement already satisfied: PyYAML>=5.3 in /usr/local/lib/python3.10/dist-packages (from langchain_community) (6.0.1)\n",
            "Requirement already satisfied: SQLAlchemy<3,>=1.4 in /usr/local/lib/python3.10/dist-packages (from langchain_community) (2.0.31)\n",
            "Requirement already satisfied: aiohttp<4.0.0,>=3.8.3 in /usr/local/lib/python3.10/dist-packages (from langchain_community) (3.9.5)\n",
            "Requirement already satisfied: dataclasses-json<0.7,>=0.5.7 in /usr/local/lib/python3.10/dist-packages (from langchain_community) (0.6.7)\n",
            "Requirement already satisfied: langchain-core<0.3.0,>=0.2.12 in /usr/local/lib/python3.10/dist-packages (from langchain_community) (0.2.17)\n",
            "Requirement already satisfied: langsmith<0.2.0,>=0.1.0 in /usr/local/lib/python3.10/dist-packages (from langchain_community) (0.1.85)\n",
            "Requirement already satisfied: numpy<2,>=1 in /usr/local/lib/python3.10/dist-packages (from langchain_community) (1.25.2)\n",
            "Requirement already satisfied: requests<3,>=2 in /usr/local/lib/python3.10/dist-packages (from langchain_community) (2.31.0)\n",
            "Requirement already satisfied: tenacity!=8.4.0,<9.0.0,>=8.1.0 in /usr/local/lib/python3.10/dist-packages (from langchain_community) (8.5.0)\n",
            "Requirement already satisfied: async-timeout<5.0.0,>=4.0.0 in /usr/local/lib/python3.10/dist-packages (from langchain) (4.0.3)\n",
            "Requirement already satisfied: langchain-text-splitters<0.3.0,>=0.2.0 in /usr/local/lib/python3.10/dist-packages (from langchain) (0.2.2)\n",
            "Requirement already satisfied: pydantic<3,>=1 in /usr/local/lib/python3.10/dist-packages (from langchain) (2.8.2)\n",
            "Requirement already satisfied: aiosignal>=1.1.2 in /usr/local/lib/python3.10/dist-packages (from aiohttp<4.0.0,>=3.8.3->langchain_community) (1.3.1)\n",
            "Requirement already satisfied: attrs>=17.3.0 in /usr/local/lib/python3.10/dist-packages (from aiohttp<4.0.0,>=3.8.3->langchain_community) (23.2.0)\n",
            "Requirement already satisfied: frozenlist>=1.1.1 in /usr/local/lib/python3.10/dist-packages (from aiohttp<4.0.0,>=3.8.3->langchain_community) (1.4.1)\n",
            "Requirement already satisfied: multidict<7.0,>=4.5 in /usr/local/lib/python3.10/dist-packages (from aiohttp<4.0.0,>=3.8.3->langchain_community) (6.0.5)\n",
            "Requirement already satisfied: yarl<2.0,>=1.0 in /usr/local/lib/python3.10/dist-packages (from aiohttp<4.0.0,>=3.8.3->langchain_community) (1.9.4)\n",
            "Requirement already satisfied: marshmallow<4.0.0,>=3.18.0 in /usr/local/lib/python3.10/dist-packages (from dataclasses-json<0.7,>=0.5.7->langchain_community) (3.21.3)\n",
            "Requirement already satisfied: typing-inspect<1,>=0.4.0 in /usr/local/lib/python3.10/dist-packages (from dataclasses-json<0.7,>=0.5.7->langchain_community) (0.9.0)\n",
            "Requirement already satisfied: jsonpatch<2.0,>=1.33 in /usr/local/lib/python3.10/dist-packages (from langchain-core<0.3.0,>=0.2.12->langchain_community) (1.33)\n",
            "Requirement already satisfied: packaging<25,>=23.2 in /usr/local/lib/python3.10/dist-packages (from langchain-core<0.3.0,>=0.2.12->langchain_community) (24.1)\n",
            "Requirement already satisfied: orjson<4.0.0,>=3.9.14 in /usr/local/lib/python3.10/dist-packages (from langsmith<0.2.0,>=0.1.0->langchain_community) (3.10.6)\n",
            "Requirement already satisfied: annotated-types>=0.4.0 in /usr/local/lib/python3.10/dist-packages (from pydantic<3,>=1->langchain) (0.7.0)\n",
            "Requirement already satisfied: pydantic-core==2.20.1 in /usr/local/lib/python3.10/dist-packages (from pydantic<3,>=1->langchain) (2.20.1)\n",
            "Requirement already satisfied: typing-extensions>=4.6.1 in /usr/local/lib/python3.10/dist-packages (from pydantic<3,>=1->langchain) (4.12.2)\n",
            "Requirement already satisfied: charset-normalizer<4,>=2 in /usr/local/lib/python3.10/dist-packages (from requests<3,>=2->langchain_community) (3.3.2)\n",
            "Requirement already satisfied: idna<4,>=2.5 in /usr/local/lib/python3.10/dist-packages (from requests<3,>=2->langchain_community) (3.7)\n",
            "Requirement already satisfied: urllib3<3,>=1.21.1 in /usr/local/lib/python3.10/dist-packages (from requests<3,>=2->langchain_community) (2.0.7)\n",
            "Requirement already satisfied: certifi>=2017.4.17 in /usr/local/lib/python3.10/dist-packages (from requests<3,>=2->langchain_community) (2024.7.4)\n",
            "Requirement already satisfied: greenlet!=0.4.17 in /usr/local/lib/python3.10/dist-packages (from SQLAlchemy<3,>=1.4->langchain_community) (3.0.3)\n",
            "Requirement already satisfied: jsonpointer>=1.9 in /usr/local/lib/python3.10/dist-packages (from jsonpatch<2.0,>=1.33->langchain-core<0.3.0,>=0.2.12->langchain_community) (3.0.0)\n",
            "Requirement already satisfied: mypy-extensions>=0.3.0 in /usr/local/lib/python3.10/dist-packages (from typing-inspect<1,>=0.4.0->dataclasses-json<0.7,>=0.5.7->langchain_community) (1.0.0)\n"
          ]
        }
      ]
    },
    {
      "cell_type": "markdown",
      "source": [
        "### Enable debug"
      ],
      "metadata": {
        "id": "uIaGxeW7kuOC"
      }
    },
    {
      "cell_type": "code",
      "source": [
        "from langchain.globals import set_debug\n",
        "set_debug(True)"
      ],
      "metadata": {
        "id": "jjysarWekt8f"
      },
      "execution_count": 46,
      "outputs": []
    },
    {
      "cell_type": "code",
      "source": [
        "from langchain_google_vertexai import ChatVertexAI\n",
        "from langchain_core.messages import HumanMessage, SystemMessage\n",
        "import os\n",
        "ChatVertexAI.update_forward_refs()"
      ],
      "metadata": {
        "id": "uqwgNoIGKILH"
      },
      "execution_count": 47,
      "outputs": []
    },
    {
      "cell_type": "code",
      "source": [
        "from google.colab import userdata\n",
        "project_id=userdata.get(\"GOOGLE_CLOUD_PROJECT_ID\")"
      ],
      "metadata": {
        "id": "Qxpb4dommLZh"
      },
      "execution_count": 48,
      "outputs": []
    },
    {
      "cell_type": "code",
      "source": [
        "llm = ChatVertexAI(model=\"gemini-pro\", project=project_id)"
      ],
      "metadata": {
        "id": "LFtt5uTlKMAu"
      },
      "execution_count": 49,
      "outputs": []
    },
    {
      "cell_type": "markdown",
      "source": [
        "### Prompt Messages"
      ],
      "metadata": {
        "id": "VUnoe5sTNzKL"
      }
    },
    {
      "cell_type": "code",
      "source": [
        "systemMessage = \"You are a Math Tutor\"\n",
        "humanMessage = \"Explain the concept of Trigonometry\""
      ],
      "metadata": {
        "id": "uIdkk-wYL22x"
      },
      "execution_count": 50,
      "outputs": []
    },
    {
      "cell_type": "code",
      "source": [
        "messages = [\n",
        "    SystemMessage(content=systemMessage),\n",
        "    HumanMessage(content=humanMessage)\n",
        "]"
      ],
      "metadata": {
        "id": "1f4040S-L4EC"
      },
      "execution_count": 51,
      "outputs": []
    },
    {
      "cell_type": "code",
      "source": [
        "response = llm.invoke(messages)"
      ],
      "metadata": {
        "id": "J7PAv9nnKS9v",
        "colab": {
          "base_uri": "https://localhost:8080/"
        },
        "outputId": "ec10b390-6284-42cc-8a8b-3bc1714be566"
      },
      "execution_count": 52,
      "outputs": [
        {
          "output_type": "stream",
          "name": "stdout",
          "text": [
            "\u001b[32;1m\u001b[1;3m[llm/start]\u001b[0m \u001b[1m[llm:ChatVertexAI] Entering LLM run with input:\n",
            "\u001b[0m{\n",
            "  \"prompts\": [\n",
            "    \"System: You are a Math Tutor\\nHuman: Explain the concept of Trigonometry\"\n",
            "  ]\n",
            "}\n",
            "\u001b[36;1m\u001b[1;3m[llm/end]\u001b[0m \u001b[1m[llm:ChatVertexAI] [5.78s] Exiting LLM run with output:\n",
            "\u001b[0m{\n",
            "  \"generations\": [\n",
            "    [\n",
            "      {\n",
            "        \"text\": \"## Trigonometry: Understanding the Relationship Between Angles and Sides in Triangles\\n\\nTrigonometry is a branch of mathematics that deals with the relationships between the sides and angles of triangles. It plays a crucial role in various fields, including engineering, physics, astronomy, and even computer graphics.\\n\\nHere's a breakdown of the key concepts:\\n\\n**1. Trigonometric Ratios:**\\n\\nThe three main trigonometric ratios are sine, cosine, and tangent. They relate the lengths of the sides of a right triangle to its angles. \\n\\n* **Sine (sin):** The ratio of the length of the opposite side to the length of the hypotenuse.\\n* **Cosine (cos):** The ratio of the length of the adjacent side to the length of the hypotenuse.\\n* **Tangent (tan):** The ratio of the length of the opposite side to the length of the adjacent side.\\n\\n**2. Special Triangles:**\\n\\nCertain triangles with specific angle measures are crucial in trigonometry. \\n\\n* **30-60-90 Triangle:** This triangle has angles of 30°, 60°, and 90°. The ratios of its sides are √3:1:2.\\n* **45-45-90 Triangle:** This triangle has angles of 45°, 45°, and 90°. The ratios of its sides are 1:1:√2.\\n\\n**3. Unit Circle:**\\n\\nThe unit circle is a circle with a radius of 1, centered at the origin of a coordinate plane. It helps visualize the trigonometric ratios for any angle. \\n\\n**4. Applications:**\\n\\nTrigonometry has numerous applications in various fields:\\n\\n* **Calculating distances and heights:**  It helps determine the height of buildings, the distance to stars, and the lengths of bridges.\\n* **Solving problems in physics and engineering:** It helps analyze forces, motion, and wave behavior.\\n* **Creating computer graphics:** It helps generate 3D models and animations.\\n* **Navigation and surveying:** It helps determine the location of objects and measure distances on Earth.\\n\\n**5. Learning Resources:**\\n\\n Several resources can help you learn trigonometry:\\n\\n* Online tutorials and videos\\n* Textbooks and workbooks\\n* Interactive websites and apps\\n* Online courses and tutoring\\n\\nRemember, trigonometry is a vast subject, but understanding the basic concepts like ratios, special triangles, and the unit circle will provide a solid foundation for further exploration. \\n\\nIf you have any specific questions or want to delve deeper into a particular area of trigonometry, feel free to ask!\",\n",
            "        \"generation_info\": {\n",
            "          \"is_blocked\": false,\n",
            "          \"safety_ratings\": [\n",
            "            {\n",
            "              \"category\": \"HARM_CATEGORY_HATE_SPEECH\",\n",
            "              \"probability_label\": \"NEGLIGIBLE\",\n",
            "              \"blocked\": false,\n",
            "              \"severity\": \"HARM_SEVERITY_NEGLIGIBLE\"\n",
            "            },\n",
            "            {\n",
            "              \"category\": \"HARM_CATEGORY_DANGEROUS_CONTENT\",\n",
            "              \"probability_label\": \"NEGLIGIBLE\",\n",
            "              \"blocked\": false,\n",
            "              \"severity\": \"HARM_SEVERITY_NEGLIGIBLE\"\n",
            "            },\n",
            "            {\n",
            "              \"category\": \"HARM_CATEGORY_HARASSMENT\",\n",
            "              \"probability_label\": \"NEGLIGIBLE\",\n",
            "              \"blocked\": false,\n",
            "              \"severity\": \"HARM_SEVERITY_NEGLIGIBLE\"\n",
            "            },\n",
            "            {\n",
            "              \"category\": \"HARM_CATEGORY_SEXUALLY_EXPLICIT\",\n",
            "              \"probability_label\": \"NEGLIGIBLE\",\n",
            "              \"blocked\": false,\n",
            "              \"severity\": \"HARM_SEVERITY_NEGLIGIBLE\"\n",
            "            }\n",
            "          ],\n",
            "          \"citation_metadata\": {\n",
            "            \"citations\": [\n",
            "              {\n",
            "                \"start_index\": 87,\n",
            "                \"end_index\": 208,\n",
            "                \"uri\": \"https://vionixstudio.com/2023/02/12/math-concepts-you-need-for-game-devolopment/\",\n",
            "                \"title\": \"\",\n",
            "                \"license_\": \"\"\n",
            "              },\n",
            "              {\n",
            "                \"start_index\": 535,\n",
            "                \"end_index\": 825,\n",
            "                \"uri\": \"https://www.numerade.com/ask/question/learning-task-2-illustrate-the-six-tr-igononetric-ratios-given-the-following-mieasuremert-of-akim-sin-cos-tan-0-csc-sec-0-cot-08136/\",\n",
            "                \"title\": \"\",\n",
            "                \"license_\": \"\"\n",
            "              }\n",
            "            ]\n",
            "          },\n",
            "          \"usage_metadata\": {\n",
            "            \"prompt_token_count\": 10,\n",
            "            \"candidates_token_count\": 538,\n",
            "            \"total_token_count\": 548\n",
            "          }\n",
            "        },\n",
            "        \"type\": \"ChatGeneration\",\n",
            "        \"message\": {\n",
            "          \"lc\": 1,\n",
            "          \"type\": \"constructor\",\n",
            "          \"id\": [\n",
            "            \"langchain\",\n",
            "            \"schema\",\n",
            "            \"messages\",\n",
            "            \"AIMessage\"\n",
            "          ],\n",
            "          \"kwargs\": {\n",
            "            \"content\": \"## Trigonometry: Understanding the Relationship Between Angles and Sides in Triangles\\n\\nTrigonometry is a branch of mathematics that deals with the relationships between the sides and angles of triangles. It plays a crucial role in various fields, including engineering, physics, astronomy, and even computer graphics.\\n\\nHere's a breakdown of the key concepts:\\n\\n**1. Trigonometric Ratios:**\\n\\nThe three main trigonometric ratios are sine, cosine, and tangent. They relate the lengths of the sides of a right triangle to its angles. \\n\\n* **Sine (sin):** The ratio of the length of the opposite side to the length of the hypotenuse.\\n* **Cosine (cos):** The ratio of the length of the adjacent side to the length of the hypotenuse.\\n* **Tangent (tan):** The ratio of the length of the opposite side to the length of the adjacent side.\\n\\n**2. Special Triangles:**\\n\\nCertain triangles with specific angle measures are crucial in trigonometry. \\n\\n* **30-60-90 Triangle:** This triangle has angles of 30°, 60°, and 90°. The ratios of its sides are √3:1:2.\\n* **45-45-90 Triangle:** This triangle has angles of 45°, 45°, and 90°. The ratios of its sides are 1:1:√2.\\n\\n**3. Unit Circle:**\\n\\nThe unit circle is a circle with a radius of 1, centered at the origin of a coordinate plane. It helps visualize the trigonometric ratios for any angle. \\n\\n**4. Applications:**\\n\\nTrigonometry has numerous applications in various fields:\\n\\n* **Calculating distances and heights:**  It helps determine the height of buildings, the distance to stars, and the lengths of bridges.\\n* **Solving problems in physics and engineering:** It helps analyze forces, motion, and wave behavior.\\n* **Creating computer graphics:** It helps generate 3D models and animations.\\n* **Navigation and surveying:** It helps determine the location of objects and measure distances on Earth.\\n\\n**5. Learning Resources:**\\n\\n Several resources can help you learn trigonometry:\\n\\n* Online tutorials and videos\\n* Textbooks and workbooks\\n* Interactive websites and apps\\n* Online courses and tutoring\\n\\nRemember, trigonometry is a vast subject, but understanding the basic concepts like ratios, special triangles, and the unit circle will provide a solid foundation for further exploration. \\n\\nIf you have any specific questions or want to delve deeper into a particular area of trigonometry, feel free to ask!\",\n",
            "            \"response_metadata\": {\n",
            "              \"is_blocked\": false,\n",
            "              \"safety_ratings\": [\n",
            "                {\n",
            "                  \"category\": \"HARM_CATEGORY_HATE_SPEECH\",\n",
            "                  \"probability_label\": \"NEGLIGIBLE\",\n",
            "                  \"blocked\": false,\n",
            "                  \"severity\": \"HARM_SEVERITY_NEGLIGIBLE\"\n",
            "                },\n",
            "                {\n",
            "                  \"category\": \"HARM_CATEGORY_DANGEROUS_CONTENT\",\n",
            "                  \"probability_label\": \"NEGLIGIBLE\",\n",
            "                  \"blocked\": false,\n",
            "                  \"severity\": \"HARM_SEVERITY_NEGLIGIBLE\"\n",
            "                },\n",
            "                {\n",
            "                  \"category\": \"HARM_CATEGORY_HARASSMENT\",\n",
            "                  \"probability_label\": \"NEGLIGIBLE\",\n",
            "                  \"blocked\": false,\n",
            "                  \"severity\": \"HARM_SEVERITY_NEGLIGIBLE\"\n",
            "                },\n",
            "                {\n",
            "                  \"category\": \"HARM_CATEGORY_SEXUALLY_EXPLICIT\",\n",
            "                  \"probability_label\": \"NEGLIGIBLE\",\n",
            "                  \"blocked\": false,\n",
            "                  \"severity\": \"HARM_SEVERITY_NEGLIGIBLE\"\n",
            "                }\n",
            "              ],\n",
            "              \"citation_metadata\": {\n",
            "                \"citations\": [\n",
            "                  {\n",
            "                    \"start_index\": 87,\n",
            "                    \"end_index\": 208,\n",
            "                    \"uri\": \"https://vionixstudio.com/2023/02/12/math-concepts-you-need-for-game-devolopment/\",\n",
            "                    \"title\": \"\",\n",
            "                    \"license_\": \"\"\n",
            "                  },\n",
            "                  {\n",
            "                    \"start_index\": 535,\n",
            "                    \"end_index\": 825,\n",
            "                    \"uri\": \"https://www.numerade.com/ask/question/learning-task-2-illustrate-the-six-tr-igononetric-ratios-given-the-following-mieasuremert-of-akim-sin-cos-tan-0-csc-sec-0-cot-08136/\",\n",
            "                    \"title\": \"\",\n",
            "                    \"license_\": \"\"\n",
            "                  }\n",
            "                ]\n",
            "              },\n",
            "              \"usage_metadata\": {\n",
            "                \"prompt_token_count\": 10,\n",
            "                \"candidates_token_count\": 538,\n",
            "                \"total_token_count\": 548\n",
            "              }\n",
            "            },\n",
            "            \"type\": \"ai\",\n",
            "            \"id\": \"run-99987eef-1cd2-46ef-89a3-1c5aadefa377-0\",\n",
            "            \"usage_metadata\": {\n",
            "              \"input_tokens\": 10,\n",
            "              \"output_tokens\": 538,\n",
            "              \"total_tokens\": 548\n",
            "            },\n",
            "            \"tool_calls\": [],\n",
            "            \"invalid_tool_calls\": []\n",
            "          }\n",
            "        }\n",
            "      }\n",
            "    ]\n",
            "  ],\n",
            "  \"llm_output\": null,\n",
            "  \"run\": null\n",
            "}\n"
          ]
        }
      ]
    },
    {
      "cell_type": "code",
      "source": [
        "response"
      ],
      "metadata": {
        "colab": {
          "base_uri": "https://localhost:8080/"
        },
        "id": "viBh5dORL9Ri",
        "outputId": "b5c1be89-0697-4975-ca79-51d4e578cf79"
      },
      "execution_count": 53,
      "outputs": [
        {
          "output_type": "execute_result",
          "data": {
            "text/plain": [
              "AIMessage(content=\"## Trigonometry: Understanding the Relationship Between Angles and Sides in Triangles\\n\\nTrigonometry is a branch of mathematics that deals with the relationships between the sides and angles of triangles. It plays a crucial role in various fields, including engineering, physics, astronomy, and even computer graphics.\\n\\nHere's a breakdown of the key concepts:\\n\\n**1. Trigonometric Ratios:**\\n\\nThe three main trigonometric ratios are sine, cosine, and tangent. They relate the lengths of the sides of a right triangle to its angles. \\n\\n* **Sine (sin):** The ratio of the length of the opposite side to the length of the hypotenuse.\\n* **Cosine (cos):** The ratio of the length of the adjacent side to the length of the hypotenuse.\\n* **Tangent (tan):** The ratio of the length of the opposite side to the length of the adjacent side.\\n\\n**2. Special Triangles:**\\n\\nCertain triangles with specific angle measures are crucial in trigonometry. \\n\\n* **30-60-90 Triangle:** This triangle has angles of 30°, 60°, and 90°. The ratios of its sides are √3:1:2.\\n* **45-45-90 Triangle:** This triangle has angles of 45°, 45°, and 90°. The ratios of its sides are 1:1:√2.\\n\\n**3. Unit Circle:**\\n\\nThe unit circle is a circle with a radius of 1, centered at the origin of a coordinate plane. It helps visualize the trigonometric ratios for any angle. \\n\\n**4. Applications:**\\n\\nTrigonometry has numerous applications in various fields:\\n\\n* **Calculating distances and heights:**  It helps determine the height of buildings, the distance to stars, and the lengths of bridges.\\n* **Solving problems in physics and engineering:** It helps analyze forces, motion, and wave behavior.\\n* **Creating computer graphics:** It helps generate 3D models and animations.\\n* **Navigation and surveying:** It helps determine the location of objects and measure distances on Earth.\\n\\n**5. Learning Resources:**\\n\\n Several resources can help you learn trigonometry:\\n\\n* Online tutorials and videos\\n* Textbooks and workbooks\\n* Interactive websites and apps\\n* Online courses and tutoring\\n\\nRemember, trigonometry is a vast subject, but understanding the basic concepts like ratios, special triangles, and the unit circle will provide a solid foundation for further exploration. \\n\\nIf you have any specific questions or want to delve deeper into a particular area of trigonometry, feel free to ask!\", response_metadata={'is_blocked': False, 'safety_ratings': [{'category': 'HARM_CATEGORY_HATE_SPEECH', 'probability_label': 'NEGLIGIBLE', 'blocked': False, 'severity': 'HARM_SEVERITY_NEGLIGIBLE'}, {'category': 'HARM_CATEGORY_DANGEROUS_CONTENT', 'probability_label': 'NEGLIGIBLE', 'blocked': False, 'severity': 'HARM_SEVERITY_NEGLIGIBLE'}, {'category': 'HARM_CATEGORY_HARASSMENT', 'probability_label': 'NEGLIGIBLE', 'blocked': False, 'severity': 'HARM_SEVERITY_NEGLIGIBLE'}, {'category': 'HARM_CATEGORY_SEXUALLY_EXPLICIT', 'probability_label': 'NEGLIGIBLE', 'blocked': False, 'severity': 'HARM_SEVERITY_NEGLIGIBLE'}], 'citation_metadata': {'citations': [{'start_index': 87, 'end_index': 208, 'uri': 'https://vionixstudio.com/2023/02/12/math-concepts-you-need-for-game-devolopment/', 'title': '', 'license_': ''}, {'start_index': 535, 'end_index': 825, 'uri': 'https://www.numerade.com/ask/question/learning-task-2-illustrate-the-six-tr-igononetric-ratios-given-the-following-mieasuremert-of-akim-sin-cos-tan-0-csc-sec-0-cot-08136/', 'title': '', 'license_': ''}]}, 'usage_metadata': {'prompt_token_count': 10, 'candidates_token_count': 538, 'total_token_count': 548}}, id='run-99987eef-1cd2-46ef-89a3-1c5aadefa377-0', usage_metadata={'input_tokens': 10, 'output_tokens': 538, 'total_tokens': 548})"
            ]
          },
          "metadata": {},
          "execution_count": 53
        }
      ]
    },
    {
      "cell_type": "code",
      "source": [
        "print(response.content)"
      ],
      "metadata": {
        "colab": {
          "base_uri": "https://localhost:8080/"
        },
        "id": "ifmUSoDNL-eq",
        "outputId": "7fa0a1e5-9772-4ff6-f73c-0a95520e2d56"
      },
      "execution_count": 54,
      "outputs": [
        {
          "output_type": "stream",
          "name": "stdout",
          "text": [
            "## Trigonometry: Understanding the Relationship Between Angles and Sides in Triangles\n",
            "\n",
            "Trigonometry is a branch of mathematics that deals with the relationships between the sides and angles of triangles. It plays a crucial role in various fields, including engineering, physics, astronomy, and even computer graphics.\n",
            "\n",
            "Here's a breakdown of the key concepts:\n",
            "\n",
            "**1. Trigonometric Ratios:**\n",
            "\n",
            "The three main trigonometric ratios are sine, cosine, and tangent. They relate the lengths of the sides of a right triangle to its angles. \n",
            "\n",
            "* **Sine (sin):** The ratio of the length of the opposite side to the length of the hypotenuse.\n",
            "* **Cosine (cos):** The ratio of the length of the adjacent side to the length of the hypotenuse.\n",
            "* **Tangent (tan):** The ratio of the length of the opposite side to the length of the adjacent side.\n",
            "\n",
            "**2. Special Triangles:**\n",
            "\n",
            "Certain triangles with specific angle measures are crucial in trigonometry. \n",
            "\n",
            "* **30-60-90 Triangle:** This triangle has angles of 30°, 60°, and 90°. The ratios of its sides are √3:1:2.\n",
            "* **45-45-90 Triangle:** This triangle has angles of 45°, 45°, and 90°. The ratios of its sides are 1:1:√2.\n",
            "\n",
            "**3. Unit Circle:**\n",
            "\n",
            "The unit circle is a circle with a radius of 1, centered at the origin of a coordinate plane. It helps visualize the trigonometric ratios for any angle. \n",
            "\n",
            "**4. Applications:**\n",
            "\n",
            "Trigonometry has numerous applications in various fields:\n",
            "\n",
            "* **Calculating distances and heights:**  It helps determine the height of buildings, the distance to stars, and the lengths of bridges.\n",
            "* **Solving problems in physics and engineering:** It helps analyze forces, motion, and wave behavior.\n",
            "* **Creating computer graphics:** It helps generate 3D models and animations.\n",
            "* **Navigation and surveying:** It helps determine the location of objects and measure distances on Earth.\n",
            "\n",
            "**5. Learning Resources:**\n",
            "\n",
            " Several resources can help you learn trigonometry:\n",
            "\n",
            "* Online tutorials and videos\n",
            "* Textbooks and workbooks\n",
            "* Interactive websites and apps\n",
            "* Online courses and tutoring\n",
            "\n",
            "Remember, trigonometry is a vast subject, but understanding the basic concepts like ratios, special triangles, and the unit circle will provide a solid foundation for further exploration. \n",
            "\n",
            "If you have any specific questions or want to delve deeper into a particular area of trigonometry, feel free to ask!\n"
          ]
        }
      ]
    },
    {
      "cell_type": "markdown",
      "source": [
        "### Prompt Messages"
      ],
      "metadata": {
        "id": "rV636JG1MbaJ"
      }
    },
    {
      "cell_type": "code",
      "source": [
        "from langchain.prompts import HumanMessagePromptTemplate, SystemMessagePromptTemplate, ChatPromptTemplate"
      ],
      "metadata": {
        "id": "h6KIKZDjMVMz"
      },
      "execution_count": 55,
      "outputs": []
    },
    {
      "cell_type": "code",
      "source": [
        "systemMessage = \"You are a {subject} Tutor\"\n",
        "humanMessage = \"Explain the concept of {concept}\""
      ],
      "metadata": {
        "id": "P0tzl2HGMjDY"
      },
      "execution_count": 56,
      "outputs": []
    },
    {
      "cell_type": "code",
      "source": [
        "prompt_template = ChatPromptTemplate.from_messages(\n",
        "    [(\"system\", systemMessage),\n",
        "     (\"human\", humanMessage),\n",
        "     ])"
      ],
      "metadata": {
        "id": "h0J-DmGBMkNu"
      },
      "execution_count": 57,
      "outputs": []
    },
    {
      "cell_type": "code",
      "source": [
        "prompt_template"
      ],
      "metadata": {
        "colab": {
          "base_uri": "https://localhost:8080/"
        },
        "id": "xZ2vI3YUMlbJ",
        "outputId": "436d2260-0798-4755-b9c1-2abe3fee35ca"
      },
      "execution_count": 58,
      "outputs": [
        {
          "output_type": "execute_result",
          "data": {
            "text/plain": [
              "ChatPromptTemplate(input_variables=['concept', 'subject'], messages=[SystemMessagePromptTemplate(prompt=PromptTemplate(input_variables=['subject'], template='You are a {subject} Tutor')), HumanMessagePromptTemplate(prompt=PromptTemplate(input_variables=['concept'], template='Explain the concept of {concept}'))])"
            ]
          },
          "metadata": {},
          "execution_count": 58
        }
      ]
    },
    {
      "cell_type": "code",
      "source": [
        "prompt = prompt_template.format(subject=\"Physics\", concept=\"Quantum mechanics\")"
      ],
      "metadata": {
        "id": "PGlIbzwnMmlo"
      },
      "execution_count": 59,
      "outputs": []
    },
    {
      "cell_type": "code",
      "source": [
        "prompt"
      ],
      "metadata": {
        "colab": {
          "base_uri": "https://localhost:8080/",
          "height": 35
        },
        "id": "e7mNV-59MnyU",
        "outputId": "0ab24cf8-2f37-4e9d-d930-4586ea067598"
      },
      "execution_count": 60,
      "outputs": [
        {
          "output_type": "execute_result",
          "data": {
            "text/plain": [
              "'System: You are a Physics Tutor\\nHuman: Explain the concept of Quantum mechanics'"
            ],
            "application/vnd.google.colaboratory.intrinsic+json": {
              "type": "string"
            }
          },
          "metadata": {},
          "execution_count": 60
        }
      ]
    },
    {
      "cell_type": "code",
      "source": [
        "response = llm.invoke(prompt)"
      ],
      "metadata": {
        "id": "K3Zif-22MpKU",
        "colab": {
          "base_uri": "https://localhost:8080/"
        },
        "outputId": "1b73a3c8-ed9b-4469-8cf6-3e0716c4f79d"
      },
      "execution_count": 61,
      "outputs": [
        {
          "output_type": "stream",
          "name": "stdout",
          "text": [
            "\u001b[32;1m\u001b[1;3m[llm/start]\u001b[0m \u001b[1m[llm:ChatVertexAI] Entering LLM run with input:\n",
            "\u001b[0m{\n",
            "  \"prompts\": [\n",
            "    \"Human: System: You are a Physics Tutor\\nHuman: Explain the concept of Quantum mechanics\"\n",
            "  ]\n",
            "}\n",
            "\u001b[36;1m\u001b[1;3m[llm/end]\u001b[0m \u001b[1m[llm:ChatVertexAI] [7.33s] Exiting LLM run with output:\n",
            "\u001b[0m{\n",
            "  \"generations\": [\n",
            "    [\n",
            "      {\n",
            "        \"text\": \"## Quantum Mechanics: A World of Probabilities\\n\\nWelcome! As your physics tutor, I'm here to guide you through the fascinating realm of quantum mechanics. Buckle up, because this journey might challenge your intuition about the world around you.\\n\\n**What is it?**\\n\\nQuantum mechanics is a fundamental theory in physics that describes the behavior of matter and energy at the atomic and subatomic level. It's a radical departure from classical mechanics, which governs the world of objects we encounter in everyday life. Here are some key principles:\\n\\n* **Quantization:** Energy, momentum, and other properties of particles don't come in continuous values but rather in discrete packets called quanta. Think of it like a staircase – you can only be on a specific step, not in between.\\n* **Wave-particle duality:** Particles like electrons exhibit both wave-like and particle-like behavior. This means they can act like a stream of particles or spread out like a wave, depending on the experiment.\\n* **Uncertainty principle:** It's impossible to know both the position and momentum of a particle with perfect accuracy. The more precisely you measure one, the less you can know about the other.\\n* **Probability and superposition:** In the quantum world, outcomes of measurements are probabilistic rather than deterministic. Before measurement, a particle can exist in a superposition of multiple states simultaneously.\\n\\n**Why is it important?**\\n\\nQuantum mechanics plays a crucial role in understanding numerous phenomena, including:\\n\\n* **The stability of atoms:** Electrons orbiting the nucleus wouldn't be stable in classical mechanics; quantum mechanics explains their existence and behavior.\\n* **The behavior of light:** Light can act as both a wave and a stream of particles (photons), a concept explained by quantum mechanics.\\n* **The operation of modern technologies:** Quantum mechanics is the foundation for lasers, transistors, and other technologies that shape our modern world.\\n\\n**Challenges and interpretations:**\\n\\nQuantum mechanics remains a vibrant field of research with several unanswered questions and ongoing debate about its interpretation. One of the most famous paradoxes is the \\\"Schrödinger's cat\\\" thought experiment, illustrating the puzzling implications of superposition.\\n\\n**Resources and further exploration:**\\n\\nIf you're interested in delving deeper into this fascinating subject, here are some excellent resources:\\n\\n* **Books:**\\n    * \\\"Quantum Mechanics: The Theoretical Minimum\\\" by Leonard Susskind and Art Friedman\\n    * \\\"Six Quantum Pieces\\\" by Richard Feynman\\n* **Websites:**\\n    * https://www.quantummechanics.org/\\n    * https://www.pbs.org/wgbh/nova/physics/quantum-physics.html\\n* **Online courses:**\\n    * https://www.edx.org/course/quantum-mechanics\\n    * https://www.khanacademy.org/science/physics/quantum-physics\\n\\nQuantum mechanics may seem strange at first, but with an open mind and a bit of exploration, you'll discover a fascinating world that governs the very building blocks of our universe. Feel free to ask me more questions, and I'll be happy to delve deeper into specific topics or clarify anything that seems unclear.\",\n",
            "        \"generation_info\": {\n",
            "          \"is_blocked\": false,\n",
            "          \"safety_ratings\": [\n",
            "            {\n",
            "              \"category\": \"HARM_CATEGORY_HATE_SPEECH\",\n",
            "              \"probability_label\": \"NEGLIGIBLE\",\n",
            "              \"blocked\": false,\n",
            "              \"severity\": \"HARM_SEVERITY_NEGLIGIBLE\"\n",
            "            },\n",
            "            {\n",
            "              \"category\": \"HARM_CATEGORY_DANGEROUS_CONTENT\",\n",
            "              \"probability_label\": \"NEGLIGIBLE\",\n",
            "              \"blocked\": false,\n",
            "              \"severity\": \"HARM_SEVERITY_NEGLIGIBLE\"\n",
            "            },\n",
            "            {\n",
            "              \"category\": \"HARM_CATEGORY_HARASSMENT\",\n",
            "              \"probability_label\": \"NEGLIGIBLE\",\n",
            "              \"blocked\": false,\n",
            "              \"severity\": \"HARM_SEVERITY_NEGLIGIBLE\"\n",
            "            },\n",
            "            {\n",
            "              \"category\": \"HARM_CATEGORY_SEXUALLY_EXPLICIT\",\n",
            "              \"probability_label\": \"NEGLIGIBLE\",\n",
            "              \"blocked\": false,\n",
            "              \"severity\": \"HARM_SEVERITY_NEGLIGIBLE\"\n",
            "            }\n",
            "          ],\n",
            "          \"citation_metadata\": {\n",
            "            \"citations\": [\n",
            "              {\n",
            "                \"start_index\": 263,\n",
            "                \"end_index\": 402,\n",
            "                \"uri\": \"https://diariesofai.com/quantum-mechanics/\",\n",
            "                \"title\": \"\",\n",
            "                \"license_\": \"\"\n",
            "              }\n",
            "            ]\n",
            "          },\n",
            "          \"usage_metadata\": {\n",
            "            \"prompt_token_count\": 16,\n",
            "            \"candidates_token_count\": 651,\n",
            "            \"total_token_count\": 667\n",
            "          }\n",
            "        },\n",
            "        \"type\": \"ChatGeneration\",\n",
            "        \"message\": {\n",
            "          \"lc\": 1,\n",
            "          \"type\": \"constructor\",\n",
            "          \"id\": [\n",
            "            \"langchain\",\n",
            "            \"schema\",\n",
            "            \"messages\",\n",
            "            \"AIMessage\"\n",
            "          ],\n",
            "          \"kwargs\": {\n",
            "            \"content\": \"## Quantum Mechanics: A World of Probabilities\\n\\nWelcome! As your physics tutor, I'm here to guide you through the fascinating realm of quantum mechanics. Buckle up, because this journey might challenge your intuition about the world around you.\\n\\n**What is it?**\\n\\nQuantum mechanics is a fundamental theory in physics that describes the behavior of matter and energy at the atomic and subatomic level. It's a radical departure from classical mechanics, which governs the world of objects we encounter in everyday life. Here are some key principles:\\n\\n* **Quantization:** Energy, momentum, and other properties of particles don't come in continuous values but rather in discrete packets called quanta. Think of it like a staircase – you can only be on a specific step, not in between.\\n* **Wave-particle duality:** Particles like electrons exhibit both wave-like and particle-like behavior. This means they can act like a stream of particles or spread out like a wave, depending on the experiment.\\n* **Uncertainty principle:** It's impossible to know both the position and momentum of a particle with perfect accuracy. The more precisely you measure one, the less you can know about the other.\\n* **Probability and superposition:** In the quantum world, outcomes of measurements are probabilistic rather than deterministic. Before measurement, a particle can exist in a superposition of multiple states simultaneously.\\n\\n**Why is it important?**\\n\\nQuantum mechanics plays a crucial role in understanding numerous phenomena, including:\\n\\n* **The stability of atoms:** Electrons orbiting the nucleus wouldn't be stable in classical mechanics; quantum mechanics explains their existence and behavior.\\n* **The behavior of light:** Light can act as both a wave and a stream of particles (photons), a concept explained by quantum mechanics.\\n* **The operation of modern technologies:** Quantum mechanics is the foundation for lasers, transistors, and other technologies that shape our modern world.\\n\\n**Challenges and interpretations:**\\n\\nQuantum mechanics remains a vibrant field of research with several unanswered questions and ongoing debate about its interpretation. One of the most famous paradoxes is the \\\"Schrödinger's cat\\\" thought experiment, illustrating the puzzling implications of superposition.\\n\\n**Resources and further exploration:**\\n\\nIf you're interested in delving deeper into this fascinating subject, here are some excellent resources:\\n\\n* **Books:**\\n    * \\\"Quantum Mechanics: The Theoretical Minimum\\\" by Leonard Susskind and Art Friedman\\n    * \\\"Six Quantum Pieces\\\" by Richard Feynman\\n* **Websites:**\\n    * https://www.quantummechanics.org/\\n    * https://www.pbs.org/wgbh/nova/physics/quantum-physics.html\\n* **Online courses:**\\n    * https://www.edx.org/course/quantum-mechanics\\n    * https://www.khanacademy.org/science/physics/quantum-physics\\n\\nQuantum mechanics may seem strange at first, but with an open mind and a bit of exploration, you'll discover a fascinating world that governs the very building blocks of our universe. Feel free to ask me more questions, and I'll be happy to delve deeper into specific topics or clarify anything that seems unclear.\",\n",
            "            \"response_metadata\": {\n",
            "              \"is_blocked\": false,\n",
            "              \"safety_ratings\": [\n",
            "                {\n",
            "                  \"category\": \"HARM_CATEGORY_HATE_SPEECH\",\n",
            "                  \"probability_label\": \"NEGLIGIBLE\",\n",
            "                  \"blocked\": false,\n",
            "                  \"severity\": \"HARM_SEVERITY_NEGLIGIBLE\"\n",
            "                },\n",
            "                {\n",
            "                  \"category\": \"HARM_CATEGORY_DANGEROUS_CONTENT\",\n",
            "                  \"probability_label\": \"NEGLIGIBLE\",\n",
            "                  \"blocked\": false,\n",
            "                  \"severity\": \"HARM_SEVERITY_NEGLIGIBLE\"\n",
            "                },\n",
            "                {\n",
            "                  \"category\": \"HARM_CATEGORY_HARASSMENT\",\n",
            "                  \"probability_label\": \"NEGLIGIBLE\",\n",
            "                  \"blocked\": false,\n",
            "                  \"severity\": \"HARM_SEVERITY_NEGLIGIBLE\"\n",
            "                },\n",
            "                {\n",
            "                  \"category\": \"HARM_CATEGORY_SEXUALLY_EXPLICIT\",\n",
            "                  \"probability_label\": \"NEGLIGIBLE\",\n",
            "                  \"blocked\": false,\n",
            "                  \"severity\": \"HARM_SEVERITY_NEGLIGIBLE\"\n",
            "                }\n",
            "              ],\n",
            "              \"citation_metadata\": {\n",
            "                \"citations\": [\n",
            "                  {\n",
            "                    \"start_index\": 263,\n",
            "                    \"end_index\": 402,\n",
            "                    \"uri\": \"https://diariesofai.com/quantum-mechanics/\",\n",
            "                    \"title\": \"\",\n",
            "                    \"license_\": \"\"\n",
            "                  }\n",
            "                ]\n",
            "              },\n",
            "              \"usage_metadata\": {\n",
            "                \"prompt_token_count\": 16,\n",
            "                \"candidates_token_count\": 651,\n",
            "                \"total_token_count\": 667\n",
            "              }\n",
            "            },\n",
            "            \"type\": \"ai\",\n",
            "            \"id\": \"run-2900eb40-69ec-410d-aa72-4dfed6bce90c-0\",\n",
            "            \"usage_metadata\": {\n",
            "              \"input_tokens\": 16,\n",
            "              \"output_tokens\": 651,\n",
            "              \"total_tokens\": 667\n",
            "            },\n",
            "            \"tool_calls\": [],\n",
            "            \"invalid_tool_calls\": []\n",
            "          }\n",
            "        }\n",
            "      }\n",
            "    ]\n",
            "  ],\n",
            "  \"llm_output\": null,\n",
            "  \"run\": null\n",
            "}\n"
          ]
        }
      ]
    },
    {
      "cell_type": "code",
      "source": [
        "response"
      ],
      "metadata": {
        "colab": {
          "base_uri": "https://localhost:8080/"
        },
        "id": "T8FpN-cOMrrw",
        "outputId": "d37091b8-ee1f-4b81-bdd5-7c633a15174a"
      },
      "execution_count": 62,
      "outputs": [
        {
          "output_type": "execute_result",
          "data": {
            "text/plain": [
              "AIMessage(content='## Quantum Mechanics: A World of Probabilities\\n\\nWelcome! As your physics tutor, I\\'m here to guide you through the fascinating realm of quantum mechanics. Buckle up, because this journey might challenge your intuition about the world around you.\\n\\n**What is it?**\\n\\nQuantum mechanics is a fundamental theory in physics that describes the behavior of matter and energy at the atomic and subatomic level. It\\'s a radical departure from classical mechanics, which governs the world of objects we encounter in everyday life. Here are some key principles:\\n\\n* **Quantization:** Energy, momentum, and other properties of particles don\\'t come in continuous values but rather in discrete packets called quanta. Think of it like a staircase – you can only be on a specific step, not in between.\\n* **Wave-particle duality:** Particles like electrons exhibit both wave-like and particle-like behavior. This means they can act like a stream of particles or spread out like a wave, depending on the experiment.\\n* **Uncertainty principle:** It\\'s impossible to know both the position and momentum of a particle with perfect accuracy. The more precisely you measure one, the less you can know about the other.\\n* **Probability and superposition:** In the quantum world, outcomes of measurements are probabilistic rather than deterministic. Before measurement, a particle can exist in a superposition of multiple states simultaneously.\\n\\n**Why is it important?**\\n\\nQuantum mechanics plays a crucial role in understanding numerous phenomena, including:\\n\\n* **The stability of atoms:** Electrons orbiting the nucleus wouldn\\'t be stable in classical mechanics; quantum mechanics explains their existence and behavior.\\n* **The behavior of light:** Light can act as both a wave and a stream of particles (photons), a concept explained by quantum mechanics.\\n* **The operation of modern technologies:** Quantum mechanics is the foundation for lasers, transistors, and other technologies that shape our modern world.\\n\\n**Challenges and interpretations:**\\n\\nQuantum mechanics remains a vibrant field of research with several unanswered questions and ongoing debate about its interpretation. One of the most famous paradoxes is the \"Schrödinger\\'s cat\" thought experiment, illustrating the puzzling implications of superposition.\\n\\n**Resources and further exploration:**\\n\\nIf you\\'re interested in delving deeper into this fascinating subject, here are some excellent resources:\\n\\n* **Books:**\\n    * \"Quantum Mechanics: The Theoretical Minimum\" by Leonard Susskind and Art Friedman\\n    * \"Six Quantum Pieces\" by Richard Feynman\\n* **Websites:**\\n    * https://www.quantummechanics.org/\\n    * https://www.pbs.org/wgbh/nova/physics/quantum-physics.html\\n* **Online courses:**\\n    * https://www.edx.org/course/quantum-mechanics\\n    * https://www.khanacademy.org/science/physics/quantum-physics\\n\\nQuantum mechanics may seem strange at first, but with an open mind and a bit of exploration, you\\'ll discover a fascinating world that governs the very building blocks of our universe. Feel free to ask me more questions, and I\\'ll be happy to delve deeper into specific topics or clarify anything that seems unclear.', response_metadata={'is_blocked': False, 'safety_ratings': [{'category': 'HARM_CATEGORY_HATE_SPEECH', 'probability_label': 'NEGLIGIBLE', 'blocked': False, 'severity': 'HARM_SEVERITY_NEGLIGIBLE'}, {'category': 'HARM_CATEGORY_DANGEROUS_CONTENT', 'probability_label': 'NEGLIGIBLE', 'blocked': False, 'severity': 'HARM_SEVERITY_NEGLIGIBLE'}, {'category': 'HARM_CATEGORY_HARASSMENT', 'probability_label': 'NEGLIGIBLE', 'blocked': False, 'severity': 'HARM_SEVERITY_NEGLIGIBLE'}, {'category': 'HARM_CATEGORY_SEXUALLY_EXPLICIT', 'probability_label': 'NEGLIGIBLE', 'blocked': False, 'severity': 'HARM_SEVERITY_NEGLIGIBLE'}], 'citation_metadata': {'citations': [{'start_index': 263, 'end_index': 402, 'uri': 'https://diariesofai.com/quantum-mechanics/', 'title': '', 'license_': ''}]}, 'usage_metadata': {'prompt_token_count': 16, 'candidates_token_count': 651, 'total_token_count': 667}}, id='run-2900eb40-69ec-410d-aa72-4dfed6bce90c-0', usage_metadata={'input_tokens': 16, 'output_tokens': 651, 'total_tokens': 667})"
            ]
          },
          "metadata": {},
          "execution_count": 62
        }
      ]
    },
    {
      "cell_type": "code",
      "source": [
        "print(response.content)"
      ],
      "metadata": {
        "colab": {
          "base_uri": "https://localhost:8080/"
        },
        "id": "uUMgM6GfMrAE",
        "outputId": "7a553ecc-7a15-40b8-afc5-44cd9449d3c9"
      },
      "execution_count": 63,
      "outputs": [
        {
          "output_type": "stream",
          "name": "stdout",
          "text": [
            "## Quantum Mechanics: A World of Probabilities\n",
            "\n",
            "Welcome! As your physics tutor, I'm here to guide you through the fascinating realm of quantum mechanics. Buckle up, because this journey might challenge your intuition about the world around you.\n",
            "\n",
            "**What is it?**\n",
            "\n",
            "Quantum mechanics is a fundamental theory in physics that describes the behavior of matter and energy at the atomic and subatomic level. It's a radical departure from classical mechanics, which governs the world of objects we encounter in everyday life. Here are some key principles:\n",
            "\n",
            "* **Quantization:** Energy, momentum, and other properties of particles don't come in continuous values but rather in discrete packets called quanta. Think of it like a staircase – you can only be on a specific step, not in between.\n",
            "* **Wave-particle duality:** Particles like electrons exhibit both wave-like and particle-like behavior. This means they can act like a stream of particles or spread out like a wave, depending on the experiment.\n",
            "* **Uncertainty principle:** It's impossible to know both the position and momentum of a particle with perfect accuracy. The more precisely you measure one, the less you can know about the other.\n",
            "* **Probability and superposition:** In the quantum world, outcomes of measurements are probabilistic rather than deterministic. Before measurement, a particle can exist in a superposition of multiple states simultaneously.\n",
            "\n",
            "**Why is it important?**\n",
            "\n",
            "Quantum mechanics plays a crucial role in understanding numerous phenomena, including:\n",
            "\n",
            "* **The stability of atoms:** Electrons orbiting the nucleus wouldn't be stable in classical mechanics; quantum mechanics explains their existence and behavior.\n",
            "* **The behavior of light:** Light can act as both a wave and a stream of particles (photons), a concept explained by quantum mechanics.\n",
            "* **The operation of modern technologies:** Quantum mechanics is the foundation for lasers, transistors, and other technologies that shape our modern world.\n",
            "\n",
            "**Challenges and interpretations:**\n",
            "\n",
            "Quantum mechanics remains a vibrant field of research with several unanswered questions and ongoing debate about its interpretation. One of the most famous paradoxes is the \"Schrödinger's cat\" thought experiment, illustrating the puzzling implications of superposition.\n",
            "\n",
            "**Resources and further exploration:**\n",
            "\n",
            "If you're interested in delving deeper into this fascinating subject, here are some excellent resources:\n",
            "\n",
            "* **Books:**\n",
            "    * \"Quantum Mechanics: The Theoretical Minimum\" by Leonard Susskind and Art Friedman\n",
            "    * \"Six Quantum Pieces\" by Richard Feynman\n",
            "* **Websites:**\n",
            "    * https://www.quantummechanics.org/\n",
            "    * https://www.pbs.org/wgbh/nova/physics/quantum-physics.html\n",
            "* **Online courses:**\n",
            "    * https://www.edx.org/course/quantum-mechanics\n",
            "    * https://www.khanacademy.org/science/physics/quantum-physics\n",
            "\n",
            "Quantum mechanics may seem strange at first, but with an open mind and a bit of exploration, you'll discover a fascinating world that governs the very building blocks of our universe. Feel free to ask me more questions, and I'll be happy to delve deeper into specific topics or clarify anything that seems unclear.\n"
          ]
        }
      ]
    }
  ]
}