{
  "nbformat": 4,
  "nbformat_minor": 0,
  "metadata": {
    "colab": {
      "provenance": []
    },
    "kernelspec": {
      "name": "python3",
      "display_name": "Python 3"
    },
    "language_info": {
      "name": "python"
    }
  },
  "cells": [
    {
      "cell_type": "markdown",
      "source": [
        "[![Open In Colab](https://colab.research.google.com/assets/colab-badge.svg)](https://colab.research.google.com/github/gnharishkumar13/langchain-notebooks/blob/main/prompts.ipynb)"
      ],
      "metadata": {
        "id": "XTjiHd63kkff"
      }
    },
    {
      "cell_type": "markdown",
      "source": [
        "### Authenticate"
      ],
      "metadata": {
        "id": "5nNfNuM6NUG2"
      }
    },
    {
      "cell_type": "code",
      "execution_count": 65,
      "metadata": {
        "id": "nsYp1NxgJ3wS"
      },
      "outputs": [],
      "source": [
        "from google.colab import auth\n",
        "auth.authenticate_user()"
      ]
    },
    {
      "cell_type": "markdown",
      "source": [
        "### Install requirements"
      ],
      "metadata": {
        "id": "QGoVY2nWNb77"
      }
    },
    {
      "cell_type": "code",
      "source": [
        "!pip install -qU langchain-google-vertexai\n",
        "!pip install langchain_community langchain"
      ],
      "metadata": {
        "colab": {
          "base_uri": "https://localhost:8080/"
        },
        "id": "086kzeosJ6N_",
        "outputId": "209271b3-f296-4f7b-c666-bbb7bd01d28f"
      },
      "execution_count": 66,
      "outputs": [
        {
          "output_type": "stream",
          "name": "stdout",
          "text": [
            "Requirement already satisfied: langchain_community in /usr/local/lib/python3.10/dist-packages (0.2.7)\n",
            "Requirement already satisfied: langchain in /usr/local/lib/python3.10/dist-packages (0.2.7)\n",
            "Requirement already satisfied: PyYAML>=5.3 in /usr/local/lib/python3.10/dist-packages (from langchain_community) (6.0.1)\n",
            "Requirement already satisfied: SQLAlchemy<3,>=1.4 in /usr/local/lib/python3.10/dist-packages (from langchain_community) (2.0.31)\n",
            "Requirement already satisfied: aiohttp<4.0.0,>=3.8.3 in /usr/local/lib/python3.10/dist-packages (from langchain_community) (3.9.5)\n",
            "Requirement already satisfied: dataclasses-json<0.7,>=0.5.7 in /usr/local/lib/python3.10/dist-packages (from langchain_community) (0.6.7)\n",
            "Requirement already satisfied: langchain-core<0.3.0,>=0.2.12 in /usr/local/lib/python3.10/dist-packages (from langchain_community) (0.2.18)\n",
            "Requirement already satisfied: langsmith<0.2.0,>=0.1.0 in /usr/local/lib/python3.10/dist-packages (from langchain_community) (0.1.85)\n",
            "Requirement already satisfied: numpy<2,>=1 in /usr/local/lib/python3.10/dist-packages (from langchain_community) (1.25.2)\n",
            "Requirement already satisfied: requests<3,>=2 in /usr/local/lib/python3.10/dist-packages (from langchain_community) (2.31.0)\n",
            "Requirement already satisfied: tenacity!=8.4.0,<9.0.0,>=8.1.0 in /usr/local/lib/python3.10/dist-packages (from langchain_community) (8.5.0)\n",
            "Requirement already satisfied: async-timeout<5.0.0,>=4.0.0 in /usr/local/lib/python3.10/dist-packages (from langchain) (4.0.3)\n",
            "Requirement already satisfied: langchain-text-splitters<0.3.0,>=0.2.0 in /usr/local/lib/python3.10/dist-packages (from langchain) (0.2.2)\n",
            "Requirement already satisfied: pydantic<3,>=1 in /usr/local/lib/python3.10/dist-packages (from langchain) (2.8.2)\n",
            "Requirement already satisfied: aiosignal>=1.1.2 in /usr/local/lib/python3.10/dist-packages (from aiohttp<4.0.0,>=3.8.3->langchain_community) (1.3.1)\n",
            "Requirement already satisfied: attrs>=17.3.0 in /usr/local/lib/python3.10/dist-packages (from aiohttp<4.0.0,>=3.8.3->langchain_community) (23.2.0)\n",
            "Requirement already satisfied: frozenlist>=1.1.1 in /usr/local/lib/python3.10/dist-packages (from aiohttp<4.0.0,>=3.8.3->langchain_community) (1.4.1)\n",
            "Requirement already satisfied: multidict<7.0,>=4.5 in /usr/local/lib/python3.10/dist-packages (from aiohttp<4.0.0,>=3.8.3->langchain_community) (6.0.5)\n",
            "Requirement already satisfied: yarl<2.0,>=1.0 in /usr/local/lib/python3.10/dist-packages (from aiohttp<4.0.0,>=3.8.3->langchain_community) (1.9.4)\n",
            "Requirement already satisfied: marshmallow<4.0.0,>=3.18.0 in /usr/local/lib/python3.10/dist-packages (from dataclasses-json<0.7,>=0.5.7->langchain_community) (3.21.3)\n",
            "Requirement already satisfied: typing-inspect<1,>=0.4.0 in /usr/local/lib/python3.10/dist-packages (from dataclasses-json<0.7,>=0.5.7->langchain_community) (0.9.0)\n",
            "Requirement already satisfied: jsonpatch<2.0,>=1.33 in /usr/local/lib/python3.10/dist-packages (from langchain-core<0.3.0,>=0.2.12->langchain_community) (1.33)\n",
            "Requirement already satisfied: packaging<25,>=23.2 in /usr/local/lib/python3.10/dist-packages (from langchain-core<0.3.0,>=0.2.12->langchain_community) (24.1)\n",
            "Requirement already satisfied: orjson<4.0.0,>=3.9.14 in /usr/local/lib/python3.10/dist-packages (from langsmith<0.2.0,>=0.1.0->langchain_community) (3.10.6)\n",
            "Requirement already satisfied: annotated-types>=0.4.0 in /usr/local/lib/python3.10/dist-packages (from pydantic<3,>=1->langchain) (0.7.0)\n",
            "Requirement already satisfied: pydantic-core==2.20.1 in /usr/local/lib/python3.10/dist-packages (from pydantic<3,>=1->langchain) (2.20.1)\n",
            "Requirement already satisfied: typing-extensions>=4.6.1 in /usr/local/lib/python3.10/dist-packages (from pydantic<3,>=1->langchain) (4.12.2)\n",
            "Requirement already satisfied: charset-normalizer<4,>=2 in /usr/local/lib/python3.10/dist-packages (from requests<3,>=2->langchain_community) (3.3.2)\n",
            "Requirement already satisfied: idna<4,>=2.5 in /usr/local/lib/python3.10/dist-packages (from requests<3,>=2->langchain_community) (3.7)\n",
            "Requirement already satisfied: urllib3<3,>=1.21.1 in /usr/local/lib/python3.10/dist-packages (from requests<3,>=2->langchain_community) (2.0.7)\n",
            "Requirement already satisfied: certifi>=2017.4.17 in /usr/local/lib/python3.10/dist-packages (from requests<3,>=2->langchain_community) (2024.7.4)\n",
            "Requirement already satisfied: greenlet!=0.4.17 in /usr/local/lib/python3.10/dist-packages (from SQLAlchemy<3,>=1.4->langchain_community) (3.0.3)\n",
            "Requirement already satisfied: jsonpointer>=1.9 in /usr/local/lib/python3.10/dist-packages (from jsonpatch<2.0,>=1.33->langchain-core<0.3.0,>=0.2.12->langchain_community) (3.0.0)\n",
            "Requirement already satisfied: mypy-extensions>=0.3.0 in /usr/local/lib/python3.10/dist-packages (from typing-inspect<1,>=0.4.0->dataclasses-json<0.7,>=0.5.7->langchain_community) (1.0.0)\n"
          ]
        }
      ]
    },
    {
      "cell_type": "markdown",
      "source": [
        "### Enable debug"
      ],
      "metadata": {
        "id": "uIaGxeW7kuOC"
      }
    },
    {
      "cell_type": "code",
      "source": [
        "from langchain.globals import set_debug\n",
        "set_debug(True)"
      ],
      "metadata": {
        "id": "jjysarWekt8f"
      },
      "execution_count": 67,
      "outputs": []
    },
    {
      "cell_type": "code",
      "source": [
        "from langchain_google_vertexai import ChatVertexAI\n",
        "from langchain_core.messages import HumanMessage, SystemMessage\n",
        "import os\n",
        "ChatVertexAI.update_forward_refs()"
      ],
      "metadata": {
        "id": "uqwgNoIGKILH"
      },
      "execution_count": 68,
      "outputs": []
    },
    {
      "cell_type": "code",
      "source": [
        "from google.colab import userdata\n",
        "project_id=userdata.get(\"GOOGLE_CLOUD_PROJECT_ID\")"
      ],
      "metadata": {
        "id": "Qxpb4dommLZh"
      },
      "execution_count": 69,
      "outputs": []
    },
    {
      "cell_type": "code",
      "source": [
        "llm = ChatVertexAI(model=\"gemini-pro\", project=project_id)"
      ],
      "metadata": {
        "id": "LFtt5uTlKMAu"
      },
      "execution_count": 70,
      "outputs": []
    },
    {
      "cell_type": "markdown",
      "source": [
        "### Prompt Messages"
      ],
      "metadata": {
        "id": "VUnoe5sTNzKL"
      }
    },
    {
      "cell_type": "code",
      "source": [
        "systemMessage = \"You are a Math Tutor\"\n",
        "humanMessage = \"Explain the concept of Trigonometry\""
      ],
      "metadata": {
        "id": "uIdkk-wYL22x"
      },
      "execution_count": 71,
      "outputs": []
    },
    {
      "cell_type": "code",
      "source": [
        "messages = [\n",
        "    SystemMessage(content=systemMessage),\n",
        "    HumanMessage(content=humanMessage)\n",
        "]"
      ],
      "metadata": {
        "id": "1f4040S-L4EC"
      },
      "execution_count": 72,
      "outputs": []
    },
    {
      "cell_type": "code",
      "source": [
        "response = llm.invoke(messages)"
      ],
      "metadata": {
        "id": "J7PAv9nnKS9v",
        "colab": {
          "base_uri": "https://localhost:8080/"
        },
        "outputId": "c46982a8-3b36-43c6-a0e6-d39c43288c84"
      },
      "execution_count": 73,
      "outputs": [
        {
          "output_type": "stream",
          "name": "stdout",
          "text": [
            "\u001b[32;1m\u001b[1;3m[llm/start]\u001b[0m \u001b[1m[llm:ChatVertexAI] Entering LLM run with input:\n",
            "\u001b[0m{\n",
            "  \"prompts\": [\n",
            "    \"System: You are a Math Tutor\\nHuman: Explain the concept of Trigonometry\"\n",
            "  ]\n",
            "}\n",
            "\u001b[36;1m\u001b[1;3m[llm/end]\u001b[0m \u001b[1m[llm:ChatVertexAI] [6.49s] Exiting LLM run with output:\n",
            "\u001b[0m{\n",
            "  \"generations\": [\n",
            "    [\n",
            "      {\n",
            "        \"text\": \"## Trigonometry: Exploring the Relationship Between Angles and Sides in Triangles\\n\\nTrigonometry, derived from the Greek words \\\"trigonon\\\" (triangle) and \\\"metron\\\" (measure), is a branch of mathematics that studies the relationship between the angles and sides of triangles. It deals with the measurement of angles and sides, and the relationships between them, in various types of triangles, right-angled and non-right-angled.\\n\\n### Key Concepts in Trigonometry:\\n\\n* **Angles:** The building block of trigonometry. Measured in degrees (°), radians (rad), or gradians (gon), angles represent the amount of rotation between two lines.\\n* **Right-angled Triangles:** Triangles with one angle measuring 90°. The sides of a right-angled triangle have specific names:\\n    - **Hypotenuse:** The side opposite the right angle (longest side).\\n    - **Adjacent Side:** The side next to the angle being considered.\\n    - **Opposite Side:** The side opposite the angle being considered.\\n* **Trigonometric Ratios:** Ratios that relate the lengths of the sides of a right-angled triangle to its angles. The three main trigonometric ratios are:\\n    - **Sine (sin):** Opposite side divided by hypotenuse.\\n    - **Cosine (cos):** Adjacent side divided by hypotenuse.\\n    - **Tangent (tan):** Opposite side divided by adjacent side.\\n* **Trigonometric Identities:** Equations that hold true for any angle, regardless of its measure. These identities are useful for simplifying trigonometric expressions and solving equations.\\n\\n### Applications of Trigonometry:\\n\\nTrigonometry has a wide range of applications in various fields, including:\\n\\n* **Engineering and Physics:** Calculating forces, moments, and angles in structures, machines, and physical systems.\\n* **Navigation and Cartography:** Determining locations, distances, and directions using maps, compasses, and GPS systems.\\n* **Astronomy and Space Exploration:** Calculating the positions and orbits of celestial objects, spacecraft, and planets.\\n* **Computer Graphics and Animation:** Creating realistic 3D models and animations using trigonometric functions.\\n\\n### Learning Trigonometry:\\n\\nTo understand and apply trigonometry effectively, it's essential to:\\n\\n1. **Grasp the fundamental concepts:** Angles, right-angled triangles, and trigonometric ratios.\\n2. **Memorize the trigonometric identities:** These equations are valuable tools for simplifying problems.\\n3. **Practice solving problems:** Regular practice helps solidify understanding and build problem-solving skills.\\n4. **Utilize visual aids and technology:** Diagrams, graphs, and calculators can enhance understanding and visualization.\\n\\nTrigonometry is a vast and fascinating subject with applications in numerous fields. Understanding its core concepts and practicing regularly unlocks its potential in various real-world scenarios.\",\n",
            "        \"generation_info\": {\n",
            "          \"is_blocked\": false,\n",
            "          \"safety_ratings\": [\n",
            "            {\n",
            "              \"category\": \"HARM_CATEGORY_HATE_SPEECH\",\n",
            "              \"probability_label\": \"NEGLIGIBLE\",\n",
            "              \"blocked\": false,\n",
            "              \"severity\": \"HARM_SEVERITY_NEGLIGIBLE\"\n",
            "            },\n",
            "            {\n",
            "              \"category\": \"HARM_CATEGORY_DANGEROUS_CONTENT\",\n",
            "              \"probability_label\": \"NEGLIGIBLE\",\n",
            "              \"blocked\": false,\n",
            "              \"severity\": \"HARM_SEVERITY_NEGLIGIBLE\"\n",
            "            },\n",
            "            {\n",
            "              \"category\": \"HARM_CATEGORY_HARASSMENT\",\n",
            "              \"probability_label\": \"NEGLIGIBLE\",\n",
            "              \"blocked\": false,\n",
            "              \"severity\": \"HARM_SEVERITY_NEGLIGIBLE\"\n",
            "            },\n",
            "            {\n",
            "              \"category\": \"HARM_CATEGORY_SEXUALLY_EXPLICIT\",\n",
            "              \"probability_label\": \"NEGLIGIBLE\",\n",
            "              \"blocked\": false,\n",
            "              \"severity\": \"HARM_SEVERITY_NEGLIGIBLE\"\n",
            "            }\n",
            "          ],\n",
            "          \"usage_metadata\": {\n",
            "            \"prompt_token_count\": 10,\n",
            "            \"candidates_token_count\": 572,\n",
            "            \"total_token_count\": 582\n",
            "          }\n",
            "        },\n",
            "        \"type\": \"ChatGeneration\",\n",
            "        \"message\": {\n",
            "          \"lc\": 1,\n",
            "          \"type\": \"constructor\",\n",
            "          \"id\": [\n",
            "            \"langchain\",\n",
            "            \"schema\",\n",
            "            \"messages\",\n",
            "            \"AIMessage\"\n",
            "          ],\n",
            "          \"kwargs\": {\n",
            "            \"content\": \"## Trigonometry: Exploring the Relationship Between Angles and Sides in Triangles\\n\\nTrigonometry, derived from the Greek words \\\"trigonon\\\" (triangle) and \\\"metron\\\" (measure), is a branch of mathematics that studies the relationship between the angles and sides of triangles. It deals with the measurement of angles and sides, and the relationships between them, in various types of triangles, right-angled and non-right-angled.\\n\\n### Key Concepts in Trigonometry:\\n\\n* **Angles:** The building block of trigonometry. Measured in degrees (°), radians (rad), or gradians (gon), angles represent the amount of rotation between two lines.\\n* **Right-angled Triangles:** Triangles with one angle measuring 90°. The sides of a right-angled triangle have specific names:\\n    - **Hypotenuse:** The side opposite the right angle (longest side).\\n    - **Adjacent Side:** The side next to the angle being considered.\\n    - **Opposite Side:** The side opposite the angle being considered.\\n* **Trigonometric Ratios:** Ratios that relate the lengths of the sides of a right-angled triangle to its angles. The three main trigonometric ratios are:\\n    - **Sine (sin):** Opposite side divided by hypotenuse.\\n    - **Cosine (cos):** Adjacent side divided by hypotenuse.\\n    - **Tangent (tan):** Opposite side divided by adjacent side.\\n* **Trigonometric Identities:** Equations that hold true for any angle, regardless of its measure. These identities are useful for simplifying trigonometric expressions and solving equations.\\n\\n### Applications of Trigonometry:\\n\\nTrigonometry has a wide range of applications in various fields, including:\\n\\n* **Engineering and Physics:** Calculating forces, moments, and angles in structures, machines, and physical systems.\\n* **Navigation and Cartography:** Determining locations, distances, and directions using maps, compasses, and GPS systems.\\n* **Astronomy and Space Exploration:** Calculating the positions and orbits of celestial objects, spacecraft, and planets.\\n* **Computer Graphics and Animation:** Creating realistic 3D models and animations using trigonometric functions.\\n\\n### Learning Trigonometry:\\n\\nTo understand and apply trigonometry effectively, it's essential to:\\n\\n1. **Grasp the fundamental concepts:** Angles, right-angled triangles, and trigonometric ratios.\\n2. **Memorize the trigonometric identities:** These equations are valuable tools for simplifying problems.\\n3. **Practice solving problems:** Regular practice helps solidify understanding and build problem-solving skills.\\n4. **Utilize visual aids and technology:** Diagrams, graphs, and calculators can enhance understanding and visualization.\\n\\nTrigonometry is a vast and fascinating subject with applications in numerous fields. Understanding its core concepts and practicing regularly unlocks its potential in various real-world scenarios.\",\n",
            "            \"response_metadata\": {\n",
            "              \"is_blocked\": false,\n",
            "              \"safety_ratings\": [\n",
            "                {\n",
            "                  \"category\": \"HARM_CATEGORY_HATE_SPEECH\",\n",
            "                  \"probability_label\": \"NEGLIGIBLE\",\n",
            "                  \"blocked\": false,\n",
            "                  \"severity\": \"HARM_SEVERITY_NEGLIGIBLE\"\n",
            "                },\n",
            "                {\n",
            "                  \"category\": \"HARM_CATEGORY_DANGEROUS_CONTENT\",\n",
            "                  \"probability_label\": \"NEGLIGIBLE\",\n",
            "                  \"blocked\": false,\n",
            "                  \"severity\": \"HARM_SEVERITY_NEGLIGIBLE\"\n",
            "                },\n",
            "                {\n",
            "                  \"category\": \"HARM_CATEGORY_HARASSMENT\",\n",
            "                  \"probability_label\": \"NEGLIGIBLE\",\n",
            "                  \"blocked\": false,\n",
            "                  \"severity\": \"HARM_SEVERITY_NEGLIGIBLE\"\n",
            "                },\n",
            "                {\n",
            "                  \"category\": \"HARM_CATEGORY_SEXUALLY_EXPLICIT\",\n",
            "                  \"probability_label\": \"NEGLIGIBLE\",\n",
            "                  \"blocked\": false,\n",
            "                  \"severity\": \"HARM_SEVERITY_NEGLIGIBLE\"\n",
            "                }\n",
            "              ],\n",
            "              \"usage_metadata\": {\n",
            "                \"prompt_token_count\": 10,\n",
            "                \"candidates_token_count\": 572,\n",
            "                \"total_token_count\": 582\n",
            "              }\n",
            "            },\n",
            "            \"type\": \"ai\",\n",
            "            \"id\": \"run-6052270f-53ac-4727-b284-c4d2451ea7e4-0\",\n",
            "            \"usage_metadata\": {\n",
            "              \"input_tokens\": 10,\n",
            "              \"output_tokens\": 572,\n",
            "              \"total_tokens\": 582\n",
            "            },\n",
            "            \"tool_calls\": [],\n",
            "            \"invalid_tool_calls\": []\n",
            "          }\n",
            "        }\n",
            "      }\n",
            "    ]\n",
            "  ],\n",
            "  \"llm_output\": null,\n",
            "  \"run\": null\n",
            "}\n"
          ]
        }
      ]
    },
    {
      "cell_type": "code",
      "source": [
        "response"
      ],
      "metadata": {
        "colab": {
          "base_uri": "https://localhost:8080/"
        },
        "id": "viBh5dORL9Ri",
        "outputId": "4c92f4ad-00d7-4e45-ee2e-61a80e82b46a"
      },
      "execution_count": 74,
      "outputs": [
        {
          "output_type": "execute_result",
          "data": {
            "text/plain": [
              "AIMessage(content='## Trigonometry: Exploring the Relationship Between Angles and Sides in Triangles\\n\\nTrigonometry, derived from the Greek words \"trigonon\" (triangle) and \"metron\" (measure), is a branch of mathematics that studies the relationship between the angles and sides of triangles. It deals with the measurement of angles and sides, and the relationships between them, in various types of triangles, right-angled and non-right-angled.\\n\\n### Key Concepts in Trigonometry:\\n\\n* **Angles:** The building block of trigonometry. Measured in degrees (°), radians (rad), or gradians (gon), angles represent the amount of rotation between two lines.\\n* **Right-angled Triangles:** Triangles with one angle measuring 90°. The sides of a right-angled triangle have specific names:\\n    - **Hypotenuse:** The side opposite the right angle (longest side).\\n    - **Adjacent Side:** The side next to the angle being considered.\\n    - **Opposite Side:** The side opposite the angle being considered.\\n* **Trigonometric Ratios:** Ratios that relate the lengths of the sides of a right-angled triangle to its angles. The three main trigonometric ratios are:\\n    - **Sine (sin):** Opposite side divided by hypotenuse.\\n    - **Cosine (cos):** Adjacent side divided by hypotenuse.\\n    - **Tangent (tan):** Opposite side divided by adjacent side.\\n* **Trigonometric Identities:** Equations that hold true for any angle, regardless of its measure. These identities are useful for simplifying trigonometric expressions and solving equations.\\n\\n### Applications of Trigonometry:\\n\\nTrigonometry has a wide range of applications in various fields, including:\\n\\n* **Engineering and Physics:** Calculating forces, moments, and angles in structures, machines, and physical systems.\\n* **Navigation and Cartography:** Determining locations, distances, and directions using maps, compasses, and GPS systems.\\n* **Astronomy and Space Exploration:** Calculating the positions and orbits of celestial objects, spacecraft, and planets.\\n* **Computer Graphics and Animation:** Creating realistic 3D models and animations using trigonometric functions.\\n\\n### Learning Trigonometry:\\n\\nTo understand and apply trigonometry effectively, it\\'s essential to:\\n\\n1. **Grasp the fundamental concepts:** Angles, right-angled triangles, and trigonometric ratios.\\n2. **Memorize the trigonometric identities:** These equations are valuable tools for simplifying problems.\\n3. **Practice solving problems:** Regular practice helps solidify understanding and build problem-solving skills.\\n4. **Utilize visual aids and technology:** Diagrams, graphs, and calculators can enhance understanding and visualization.\\n\\nTrigonometry is a vast and fascinating subject with applications in numerous fields. Understanding its core concepts and practicing regularly unlocks its potential in various real-world scenarios.', response_metadata={'is_blocked': False, 'safety_ratings': [{'category': 'HARM_CATEGORY_HATE_SPEECH', 'probability_label': 'NEGLIGIBLE', 'blocked': False, 'severity': 'HARM_SEVERITY_NEGLIGIBLE'}, {'category': 'HARM_CATEGORY_DANGEROUS_CONTENT', 'probability_label': 'NEGLIGIBLE', 'blocked': False, 'severity': 'HARM_SEVERITY_NEGLIGIBLE'}, {'category': 'HARM_CATEGORY_HARASSMENT', 'probability_label': 'NEGLIGIBLE', 'blocked': False, 'severity': 'HARM_SEVERITY_NEGLIGIBLE'}, {'category': 'HARM_CATEGORY_SEXUALLY_EXPLICIT', 'probability_label': 'NEGLIGIBLE', 'blocked': False, 'severity': 'HARM_SEVERITY_NEGLIGIBLE'}], 'usage_metadata': {'prompt_token_count': 10, 'candidates_token_count': 572, 'total_token_count': 582}}, id='run-6052270f-53ac-4727-b284-c4d2451ea7e4-0', usage_metadata={'input_tokens': 10, 'output_tokens': 572, 'total_tokens': 582})"
            ]
          },
          "metadata": {},
          "execution_count": 74
        }
      ]
    },
    {
      "cell_type": "code",
      "source": [
        "print(response.content)"
      ],
      "metadata": {
        "colab": {
          "base_uri": "https://localhost:8080/"
        },
        "id": "ifmUSoDNL-eq",
        "outputId": "923aa227-123a-4770-acad-22a4d0b7873f"
      },
      "execution_count": 75,
      "outputs": [
        {
          "output_type": "stream",
          "name": "stdout",
          "text": [
            "## Trigonometry: Exploring the Relationship Between Angles and Sides in Triangles\n",
            "\n",
            "Trigonometry, derived from the Greek words \"trigonon\" (triangle) and \"metron\" (measure), is a branch of mathematics that studies the relationship between the angles and sides of triangles. It deals with the measurement of angles and sides, and the relationships between them, in various types of triangles, right-angled and non-right-angled.\n",
            "\n",
            "### Key Concepts in Trigonometry:\n",
            "\n",
            "* **Angles:** The building block of trigonometry. Measured in degrees (°), radians (rad), or gradians (gon), angles represent the amount of rotation between two lines.\n",
            "* **Right-angled Triangles:** Triangles with one angle measuring 90°. The sides of a right-angled triangle have specific names:\n",
            "    - **Hypotenuse:** The side opposite the right angle (longest side).\n",
            "    - **Adjacent Side:** The side next to the angle being considered.\n",
            "    - **Opposite Side:** The side opposite the angle being considered.\n",
            "* **Trigonometric Ratios:** Ratios that relate the lengths of the sides of a right-angled triangle to its angles. The three main trigonometric ratios are:\n",
            "    - **Sine (sin):** Opposite side divided by hypotenuse.\n",
            "    - **Cosine (cos):** Adjacent side divided by hypotenuse.\n",
            "    - **Tangent (tan):** Opposite side divided by adjacent side.\n",
            "* **Trigonometric Identities:** Equations that hold true for any angle, regardless of its measure. These identities are useful for simplifying trigonometric expressions and solving equations.\n",
            "\n",
            "### Applications of Trigonometry:\n",
            "\n",
            "Trigonometry has a wide range of applications in various fields, including:\n",
            "\n",
            "* **Engineering and Physics:** Calculating forces, moments, and angles in structures, machines, and physical systems.\n",
            "* **Navigation and Cartography:** Determining locations, distances, and directions using maps, compasses, and GPS systems.\n",
            "* **Astronomy and Space Exploration:** Calculating the positions and orbits of celestial objects, spacecraft, and planets.\n",
            "* **Computer Graphics and Animation:** Creating realistic 3D models and animations using trigonometric functions.\n",
            "\n",
            "### Learning Trigonometry:\n",
            "\n",
            "To understand and apply trigonometry effectively, it's essential to:\n",
            "\n",
            "1. **Grasp the fundamental concepts:** Angles, right-angled triangles, and trigonometric ratios.\n",
            "2. **Memorize the trigonometric identities:** These equations are valuable tools for simplifying problems.\n",
            "3. **Practice solving problems:** Regular practice helps solidify understanding and build problem-solving skills.\n",
            "4. **Utilize visual aids and technology:** Diagrams, graphs, and calculators can enhance understanding and visualization.\n",
            "\n",
            "Trigonometry is a vast and fascinating subject with applications in numerous fields. Understanding its core concepts and practicing regularly unlocks its potential in various real-world scenarios.\n"
          ]
        }
      ]
    },
    {
      "cell_type": "markdown",
      "source": [
        "### Prompt Messages"
      ],
      "metadata": {
        "id": "rV636JG1MbaJ"
      }
    },
    {
      "cell_type": "code",
      "source": [
        "from langchain.prompts import HumanMessagePromptTemplate, SystemMessagePromptTemplate, ChatPromptTemplate"
      ],
      "metadata": {
        "id": "h6KIKZDjMVMz"
      },
      "execution_count": 76,
      "outputs": []
    },
    {
      "cell_type": "code",
      "source": [
        "systemMessage = \"You are a {subject} Tutor\"\n",
        "humanMessage = \"Explain the concept of {concept}\""
      ],
      "metadata": {
        "id": "P0tzl2HGMjDY"
      },
      "execution_count": 77,
      "outputs": []
    },
    {
      "cell_type": "code",
      "source": [
        "prompt_template = ChatPromptTemplate.from_messages(\n",
        "    [(\"system\", systemMessage),\n",
        "     (\"human\", humanMessage),\n",
        "     ])"
      ],
      "metadata": {
        "id": "h0J-DmGBMkNu"
      },
      "execution_count": 78,
      "outputs": []
    },
    {
      "cell_type": "code",
      "source": [
        "prompt_template"
      ],
      "metadata": {
        "colab": {
          "base_uri": "https://localhost:8080/"
        },
        "id": "xZ2vI3YUMlbJ",
        "outputId": "63522cff-c199-4108-fe28-ec537f290555"
      },
      "execution_count": 79,
      "outputs": [
        {
          "output_type": "execute_result",
          "data": {
            "text/plain": [
              "ChatPromptTemplate(input_variables=['concept', 'subject'], messages=[SystemMessagePromptTemplate(prompt=PromptTemplate(input_variables=['subject'], template='You are a {subject} Tutor')), HumanMessagePromptTemplate(prompt=PromptTemplate(input_variables=['concept'], template='Explain the concept of {concept}'))])"
            ]
          },
          "metadata": {},
          "execution_count": 79
        }
      ]
    },
    {
      "cell_type": "code",
      "source": [
        "prompt = prompt_template.format(subject=\"Physics\", concept=\"Quantum mechanics\")"
      ],
      "metadata": {
        "id": "PGlIbzwnMmlo"
      },
      "execution_count": 80,
      "outputs": []
    },
    {
      "cell_type": "code",
      "source": [
        "prompt"
      ],
      "metadata": {
        "colab": {
          "base_uri": "https://localhost:8080/",
          "height": 35
        },
        "id": "e7mNV-59MnyU",
        "outputId": "f09f09bc-b575-49b2-aab2-c2d805a6931b"
      },
      "execution_count": 81,
      "outputs": [
        {
          "output_type": "execute_result",
          "data": {
            "text/plain": [
              "'System: You are a Physics Tutor\\nHuman: Explain the concept of Quantum mechanics'"
            ],
            "application/vnd.google.colaboratory.intrinsic+json": {
              "type": "string"
            }
          },
          "metadata": {},
          "execution_count": 81
        }
      ]
    },
    {
      "cell_type": "code",
      "source": [
        "response = llm.invoke(prompt)"
      ],
      "metadata": {
        "id": "K3Zif-22MpKU",
        "colab": {
          "base_uri": "https://localhost:8080/"
        },
        "outputId": "6f57fed5-9828-44e0-da45-0551f643f337"
      },
      "execution_count": 82,
      "outputs": [
        {
          "output_type": "stream",
          "name": "stdout",
          "text": [
            "\u001b[32;1m\u001b[1;3m[llm/start]\u001b[0m \u001b[1m[llm:ChatVertexAI] Entering LLM run with input:\n",
            "\u001b[0m{\n",
            "  \"prompts\": [\n",
            "    \"Human: System: You are a Physics Tutor\\nHuman: Explain the concept of Quantum mechanics\"\n",
            "  ]\n",
            "}\n",
            "\u001b[36;1m\u001b[1;3m[llm/end]\u001b[0m \u001b[1m[llm:ChatVertexAI] [8.21s] Exiting LLM run with output:\n",
            "\u001b[0m{\n",
            "  \"generations\": [\n",
            "    [\n",
            "      {\n",
            "        \"text\": \"## Quantum Mechanics: A Dive into the Microscopic World\\n\\nWelcome! I'm here to guide you through the fascinating world of quantum mechanics, the science that governs the behavior of matter at the atomic and subatomic level.\\n\\n### Unveiling the Quantum World\\n\\nImagine the world we experience as a vast ocean. Classical physics, which ruled the scientific landscape for centuries, is like a large ship sailing through this ocean. It gives us a good overall picture of the currents, waves, and storms, but it fails to capture the intricate details of the microscopic world. \\n\\nQuantum mechanics, on the other hand, is like a submarine that dives deep into the ocean depths, revealing a hidden realm of bizarre and counterintuitive phenomena. In this realm, things behave very differently than in our everyday experience. \\n\\n### Key Concepts of Quantum Mechanics\\n\\nLet's dive into some key concepts of quantum mechanics:\\n\\n**1. Quantization:** This is the core principle of quantum mechanics. Unlike classical physics, where quantities like energy or momentum can take any value, in the quantum world, these quantities are restricted to discrete values, like steps on a staircase. This means that energy, for example, can only exist in certain \\\"packets\\\" called quanta. \\n\\n**2. Wave-particle Duality:** This mind-bending concept states that particles like electrons can exhibit both wave-like and particle-like behavior. This means that an electron can act like a tiny ball, but also like a wave spreading out in space. This duality has been experimentally confirmed through phenomena like the double-slit experiment.\\n\\n**3. Uncertainty Principle:** This principle, formulated by Werner Heisenberg, states that it is impossible to know both the position and momentum of a particle with perfect accuracy at the same time. The more precisely you measure one, the less precise your knowledge of the other becomes. This is not a limitation of our measuring instruments, but a fundamental property of the quantum world.\\n\\n**4. Superposition:** This mind-boggling concept states that a particle can exist in multiple states simultaneously until it is measured. This is like a coin being both heads and tails at the same time until you flip it and see the result. This superposition principle is at the heart of many important quantum phenomena, including entanglement (where two particles become linked even when separated by vast distances).\\n\\n### Applications of Quantum Mechanics\\n\\nQuantum mechanics is not just a theoretical framework; it has numerous practical applications that have revolutionized our world. Here are some examples:\\n\\n**- Lasers:** These devices, based on the stimulated emission of light, are used in everything from barcode scanners to medical imaging.\\n\\n**- Transistors:** These tiny switches are the building blocks of modern electronics, from computers to smartphones.\\n\\n**- Quantum computers:** These new types of computers harness the principles of quantum mechanics to solve problems that are intractable for classical computers.\\n\\n**- Magnetic resonance imaging (MRI):** This medical imaging technique uses nuclear magnetic resonance to create detailed images of the human body.\\n\\n\\n### Learning More About Quantum Mechanics\\n\\nThis is just a brief introduction to the fascinating world of quantum mechanics. There is much more to explore, from the bizarre behavior of quantum particles to the philosophical implications of this theory. \\n\\nHere are some resources to help you deepen your understanding:\\n\\n* **Books:**\\n    * \\\"Quantum Mechanics: The Theoretical Minimum\\\" by Leonard Susskind and Art Friedman\\n    * \\\"QED: The Strange Theory of Light and Matter\\\" by Richard Feynman\\n* **Websites:**\\n    * https://www.quantum.gov/\\n    * https://www.pbs.org/wgbh/nova/physics/quantum-physics.html\\n* **Videos:**\\n    * https://www.youtube.com/watch?v=dfC-VQ8qZ3U (Crash Course: Quantum Mechanics)\\n    * https://www.youtube.com/watch?v=8F2oK3u96Y8 (What is Quantum Mechanics? - Simple Explanation)\\n\\nI encourage you to explore further and discover the wonders of the quantum world!\",\n",
            "        \"generation_info\": {\n",
            "          \"is_blocked\": false,\n",
            "          \"safety_ratings\": [\n",
            "            {\n",
            "              \"category\": \"HARM_CATEGORY_HATE_SPEECH\",\n",
            "              \"probability_label\": \"NEGLIGIBLE\",\n",
            "              \"blocked\": false,\n",
            "              \"severity\": \"HARM_SEVERITY_NEGLIGIBLE\"\n",
            "            },\n",
            "            {\n",
            "              \"category\": \"HARM_CATEGORY_DANGEROUS_CONTENT\",\n",
            "              \"probability_label\": \"NEGLIGIBLE\",\n",
            "              \"blocked\": false,\n",
            "              \"severity\": \"HARM_SEVERITY_NEGLIGIBLE\"\n",
            "            },\n",
            "            {\n",
            "              \"category\": \"HARM_CATEGORY_HARASSMENT\",\n",
            "              \"probability_label\": \"NEGLIGIBLE\",\n",
            "              \"blocked\": false,\n",
            "              \"severity\": \"HARM_SEVERITY_NEGLIGIBLE\"\n",
            "            },\n",
            "            {\n",
            "              \"category\": \"HARM_CATEGORY_SEXUALLY_EXPLICIT\",\n",
            "              \"probability_label\": \"NEGLIGIBLE\",\n",
            "              \"blocked\": false,\n",
            "              \"severity\": \"HARM_SEVERITY_NEGLIGIBLE\"\n",
            "            }\n",
            "          ],\n",
            "          \"usage_metadata\": {\n",
            "            \"prompt_token_count\": 16,\n",
            "            \"candidates_token_count\": 836,\n",
            "            \"total_token_count\": 852\n",
            "          }\n",
            "        },\n",
            "        \"type\": \"ChatGeneration\",\n",
            "        \"message\": {\n",
            "          \"lc\": 1,\n",
            "          \"type\": \"constructor\",\n",
            "          \"id\": [\n",
            "            \"langchain\",\n",
            "            \"schema\",\n",
            "            \"messages\",\n",
            "            \"AIMessage\"\n",
            "          ],\n",
            "          \"kwargs\": {\n",
            "            \"content\": \"## Quantum Mechanics: A Dive into the Microscopic World\\n\\nWelcome! I'm here to guide you through the fascinating world of quantum mechanics, the science that governs the behavior of matter at the atomic and subatomic level.\\n\\n### Unveiling the Quantum World\\n\\nImagine the world we experience as a vast ocean. Classical physics, which ruled the scientific landscape for centuries, is like a large ship sailing through this ocean. It gives us a good overall picture of the currents, waves, and storms, but it fails to capture the intricate details of the microscopic world. \\n\\nQuantum mechanics, on the other hand, is like a submarine that dives deep into the ocean depths, revealing a hidden realm of bizarre and counterintuitive phenomena. In this realm, things behave very differently than in our everyday experience. \\n\\n### Key Concepts of Quantum Mechanics\\n\\nLet's dive into some key concepts of quantum mechanics:\\n\\n**1. Quantization:** This is the core principle of quantum mechanics. Unlike classical physics, where quantities like energy or momentum can take any value, in the quantum world, these quantities are restricted to discrete values, like steps on a staircase. This means that energy, for example, can only exist in certain \\\"packets\\\" called quanta. \\n\\n**2. Wave-particle Duality:** This mind-bending concept states that particles like electrons can exhibit both wave-like and particle-like behavior. This means that an electron can act like a tiny ball, but also like a wave spreading out in space. This duality has been experimentally confirmed through phenomena like the double-slit experiment.\\n\\n**3. Uncertainty Principle:** This principle, formulated by Werner Heisenberg, states that it is impossible to know both the position and momentum of a particle with perfect accuracy at the same time. The more precisely you measure one, the less precise your knowledge of the other becomes. This is not a limitation of our measuring instruments, but a fundamental property of the quantum world.\\n\\n**4. Superposition:** This mind-boggling concept states that a particle can exist in multiple states simultaneously until it is measured. This is like a coin being both heads and tails at the same time until you flip it and see the result. This superposition principle is at the heart of many important quantum phenomena, including entanglement (where two particles become linked even when separated by vast distances).\\n\\n### Applications of Quantum Mechanics\\n\\nQuantum mechanics is not just a theoretical framework; it has numerous practical applications that have revolutionized our world. Here are some examples:\\n\\n**- Lasers:** These devices, based on the stimulated emission of light, are used in everything from barcode scanners to medical imaging.\\n\\n**- Transistors:** These tiny switches are the building blocks of modern electronics, from computers to smartphones.\\n\\n**- Quantum computers:** These new types of computers harness the principles of quantum mechanics to solve problems that are intractable for classical computers.\\n\\n**- Magnetic resonance imaging (MRI):** This medical imaging technique uses nuclear magnetic resonance to create detailed images of the human body.\\n\\n\\n### Learning More About Quantum Mechanics\\n\\nThis is just a brief introduction to the fascinating world of quantum mechanics. There is much more to explore, from the bizarre behavior of quantum particles to the philosophical implications of this theory. \\n\\nHere are some resources to help you deepen your understanding:\\n\\n* **Books:**\\n    * \\\"Quantum Mechanics: The Theoretical Minimum\\\" by Leonard Susskind and Art Friedman\\n    * \\\"QED: The Strange Theory of Light and Matter\\\" by Richard Feynman\\n* **Websites:**\\n    * https://www.quantum.gov/\\n    * https://www.pbs.org/wgbh/nova/physics/quantum-physics.html\\n* **Videos:**\\n    * https://www.youtube.com/watch?v=dfC-VQ8qZ3U (Crash Course: Quantum Mechanics)\\n    * https://www.youtube.com/watch?v=8F2oK3u96Y8 (What is Quantum Mechanics? - Simple Explanation)\\n\\nI encourage you to explore further and discover the wonders of the quantum world!\",\n",
            "            \"response_metadata\": {\n",
            "              \"is_blocked\": false,\n",
            "              \"safety_ratings\": [\n",
            "                {\n",
            "                  \"category\": \"HARM_CATEGORY_HATE_SPEECH\",\n",
            "                  \"probability_label\": \"NEGLIGIBLE\",\n",
            "                  \"blocked\": false,\n",
            "                  \"severity\": \"HARM_SEVERITY_NEGLIGIBLE\"\n",
            "                },\n",
            "                {\n",
            "                  \"category\": \"HARM_CATEGORY_DANGEROUS_CONTENT\",\n",
            "                  \"probability_label\": \"NEGLIGIBLE\",\n",
            "                  \"blocked\": false,\n",
            "                  \"severity\": \"HARM_SEVERITY_NEGLIGIBLE\"\n",
            "                },\n",
            "                {\n",
            "                  \"category\": \"HARM_CATEGORY_HARASSMENT\",\n",
            "                  \"probability_label\": \"NEGLIGIBLE\",\n",
            "                  \"blocked\": false,\n",
            "                  \"severity\": \"HARM_SEVERITY_NEGLIGIBLE\"\n",
            "                },\n",
            "                {\n",
            "                  \"category\": \"HARM_CATEGORY_SEXUALLY_EXPLICIT\",\n",
            "                  \"probability_label\": \"NEGLIGIBLE\",\n",
            "                  \"blocked\": false,\n",
            "                  \"severity\": \"HARM_SEVERITY_NEGLIGIBLE\"\n",
            "                }\n",
            "              ],\n",
            "              \"usage_metadata\": {\n",
            "                \"prompt_token_count\": 16,\n",
            "                \"candidates_token_count\": 836,\n",
            "                \"total_token_count\": 852\n",
            "              }\n",
            "            },\n",
            "            \"type\": \"ai\",\n",
            "            \"id\": \"run-fa3ae215-b96e-4e57-854d-f29358e2bd41-0\",\n",
            "            \"usage_metadata\": {\n",
            "              \"input_tokens\": 16,\n",
            "              \"output_tokens\": 836,\n",
            "              \"total_tokens\": 852\n",
            "            },\n",
            "            \"tool_calls\": [],\n",
            "            \"invalid_tool_calls\": []\n",
            "          }\n",
            "        }\n",
            "      }\n",
            "    ]\n",
            "  ],\n",
            "  \"llm_output\": null,\n",
            "  \"run\": null\n",
            "}\n"
          ]
        }
      ]
    },
    {
      "cell_type": "code",
      "source": [
        "response"
      ],
      "metadata": {
        "colab": {
          "base_uri": "https://localhost:8080/"
        },
        "id": "T8FpN-cOMrrw",
        "outputId": "a0e9ea03-ea31-4cd1-dd0e-e9af1513393d"
      },
      "execution_count": 83,
      "outputs": [
        {
          "output_type": "execute_result",
          "data": {
            "text/plain": [
              "AIMessage(content='## Quantum Mechanics: A Dive into the Microscopic World\\n\\nWelcome! I\\'m here to guide you through the fascinating world of quantum mechanics, the science that governs the behavior of matter at the atomic and subatomic level.\\n\\n### Unveiling the Quantum World\\n\\nImagine the world we experience as a vast ocean. Classical physics, which ruled the scientific landscape for centuries, is like a large ship sailing through this ocean. It gives us a good overall picture of the currents, waves, and storms, but it fails to capture the intricate details of the microscopic world. \\n\\nQuantum mechanics, on the other hand, is like a submarine that dives deep into the ocean depths, revealing a hidden realm of bizarre and counterintuitive phenomena. In this realm, things behave very differently than in our everyday experience. \\n\\n### Key Concepts of Quantum Mechanics\\n\\nLet\\'s dive into some key concepts of quantum mechanics:\\n\\n**1. Quantization:** This is the core principle of quantum mechanics. Unlike classical physics, where quantities like energy or momentum can take any value, in the quantum world, these quantities are restricted to discrete values, like steps on a staircase. This means that energy, for example, can only exist in certain \"packets\" called quanta. \\n\\n**2. Wave-particle Duality:** This mind-bending concept states that particles like electrons can exhibit both wave-like and particle-like behavior. This means that an electron can act like a tiny ball, but also like a wave spreading out in space. This duality has been experimentally confirmed through phenomena like the double-slit experiment.\\n\\n**3. Uncertainty Principle:** This principle, formulated by Werner Heisenberg, states that it is impossible to know both the position and momentum of a particle with perfect accuracy at the same time. The more precisely you measure one, the less precise your knowledge of the other becomes. This is not a limitation of our measuring instruments, but a fundamental property of the quantum world.\\n\\n**4. Superposition:** This mind-boggling concept states that a particle can exist in multiple states simultaneously until it is measured. This is like a coin being both heads and tails at the same time until you flip it and see the result. This superposition principle is at the heart of many important quantum phenomena, including entanglement (where two particles become linked even when separated by vast distances).\\n\\n### Applications of Quantum Mechanics\\n\\nQuantum mechanics is not just a theoretical framework; it has numerous practical applications that have revolutionized our world. Here are some examples:\\n\\n**- Lasers:** These devices, based on the stimulated emission of light, are used in everything from barcode scanners to medical imaging.\\n\\n**- Transistors:** These tiny switches are the building blocks of modern electronics, from computers to smartphones.\\n\\n**- Quantum computers:** These new types of computers harness the principles of quantum mechanics to solve problems that are intractable for classical computers.\\n\\n**- Magnetic resonance imaging (MRI):** This medical imaging technique uses nuclear magnetic resonance to create detailed images of the human body.\\n\\n\\n### Learning More About Quantum Mechanics\\n\\nThis is just a brief introduction to the fascinating world of quantum mechanics. There is much more to explore, from the bizarre behavior of quantum particles to the philosophical implications of this theory. \\n\\nHere are some resources to help you deepen your understanding:\\n\\n* **Books:**\\n    * \"Quantum Mechanics: The Theoretical Minimum\" by Leonard Susskind and Art Friedman\\n    * \"QED: The Strange Theory of Light and Matter\" by Richard Feynman\\n* **Websites:**\\n    * https://www.quantum.gov/\\n    * https://www.pbs.org/wgbh/nova/physics/quantum-physics.html\\n* **Videos:**\\n    * https://www.youtube.com/watch?v=dfC-VQ8qZ3U (Crash Course: Quantum Mechanics)\\n    * https://www.youtube.com/watch?v=8F2oK3u96Y8 (What is Quantum Mechanics? - Simple Explanation)\\n\\nI encourage you to explore further and discover the wonders of the quantum world!', response_metadata={'is_blocked': False, 'safety_ratings': [{'category': 'HARM_CATEGORY_HATE_SPEECH', 'probability_label': 'NEGLIGIBLE', 'blocked': False, 'severity': 'HARM_SEVERITY_NEGLIGIBLE'}, {'category': 'HARM_CATEGORY_DANGEROUS_CONTENT', 'probability_label': 'NEGLIGIBLE', 'blocked': False, 'severity': 'HARM_SEVERITY_NEGLIGIBLE'}, {'category': 'HARM_CATEGORY_HARASSMENT', 'probability_label': 'NEGLIGIBLE', 'blocked': False, 'severity': 'HARM_SEVERITY_NEGLIGIBLE'}, {'category': 'HARM_CATEGORY_SEXUALLY_EXPLICIT', 'probability_label': 'NEGLIGIBLE', 'blocked': False, 'severity': 'HARM_SEVERITY_NEGLIGIBLE'}], 'usage_metadata': {'prompt_token_count': 16, 'candidates_token_count': 836, 'total_token_count': 852}}, id='run-fa3ae215-b96e-4e57-854d-f29358e2bd41-0', usage_metadata={'input_tokens': 16, 'output_tokens': 836, 'total_tokens': 852})"
            ]
          },
          "metadata": {},
          "execution_count": 83
        }
      ]
    },
    {
      "cell_type": "code",
      "source": [
        "print(response.content)"
      ],
      "metadata": {
        "colab": {
          "base_uri": "https://localhost:8080/"
        },
        "id": "uUMgM6GfMrAE",
        "outputId": "7d8557a1-9156-44ac-d226-630c630b924d"
      },
      "execution_count": 84,
      "outputs": [
        {
          "output_type": "stream",
          "name": "stdout",
          "text": [
            "## Quantum Mechanics: A Dive into the Microscopic World\n",
            "\n",
            "Welcome! I'm here to guide you through the fascinating world of quantum mechanics, the science that governs the behavior of matter at the atomic and subatomic level.\n",
            "\n",
            "### Unveiling the Quantum World\n",
            "\n",
            "Imagine the world we experience as a vast ocean. Classical physics, which ruled the scientific landscape for centuries, is like a large ship sailing through this ocean. It gives us a good overall picture of the currents, waves, and storms, but it fails to capture the intricate details of the microscopic world. \n",
            "\n",
            "Quantum mechanics, on the other hand, is like a submarine that dives deep into the ocean depths, revealing a hidden realm of bizarre and counterintuitive phenomena. In this realm, things behave very differently than in our everyday experience. \n",
            "\n",
            "### Key Concepts of Quantum Mechanics\n",
            "\n",
            "Let's dive into some key concepts of quantum mechanics:\n",
            "\n",
            "**1. Quantization:** This is the core principle of quantum mechanics. Unlike classical physics, where quantities like energy or momentum can take any value, in the quantum world, these quantities are restricted to discrete values, like steps on a staircase. This means that energy, for example, can only exist in certain \"packets\" called quanta. \n",
            "\n",
            "**2. Wave-particle Duality:** This mind-bending concept states that particles like electrons can exhibit both wave-like and particle-like behavior. This means that an electron can act like a tiny ball, but also like a wave spreading out in space. This duality has been experimentally confirmed through phenomena like the double-slit experiment.\n",
            "\n",
            "**3. Uncertainty Principle:** This principle, formulated by Werner Heisenberg, states that it is impossible to know both the position and momentum of a particle with perfect accuracy at the same time. The more precisely you measure one, the less precise your knowledge of the other becomes. This is not a limitation of our measuring instruments, but a fundamental property of the quantum world.\n",
            "\n",
            "**4. Superposition:** This mind-boggling concept states that a particle can exist in multiple states simultaneously until it is measured. This is like a coin being both heads and tails at the same time until you flip it and see the result. This superposition principle is at the heart of many important quantum phenomena, including entanglement (where two particles become linked even when separated by vast distances).\n",
            "\n",
            "### Applications of Quantum Mechanics\n",
            "\n",
            "Quantum mechanics is not just a theoretical framework; it has numerous practical applications that have revolutionized our world. Here are some examples:\n",
            "\n",
            "**- Lasers:** These devices, based on the stimulated emission of light, are used in everything from barcode scanners to medical imaging.\n",
            "\n",
            "**- Transistors:** These tiny switches are the building blocks of modern electronics, from computers to smartphones.\n",
            "\n",
            "**- Quantum computers:** These new types of computers harness the principles of quantum mechanics to solve problems that are intractable for classical computers.\n",
            "\n",
            "**- Magnetic resonance imaging (MRI):** This medical imaging technique uses nuclear magnetic resonance to create detailed images of the human body.\n",
            "\n",
            "\n",
            "### Learning More About Quantum Mechanics\n",
            "\n",
            "This is just a brief introduction to the fascinating world of quantum mechanics. There is much more to explore, from the bizarre behavior of quantum particles to the philosophical implications of this theory. \n",
            "\n",
            "Here are some resources to help you deepen your understanding:\n",
            "\n",
            "* **Books:**\n",
            "    * \"Quantum Mechanics: The Theoretical Minimum\" by Leonard Susskind and Art Friedman\n",
            "    * \"QED: The Strange Theory of Light and Matter\" by Richard Feynman\n",
            "* **Websites:**\n",
            "    * https://www.quantum.gov/\n",
            "    * https://www.pbs.org/wgbh/nova/physics/quantum-physics.html\n",
            "* **Videos:**\n",
            "    * https://www.youtube.com/watch?v=dfC-VQ8qZ3U (Crash Course: Quantum Mechanics)\n",
            "    * https://www.youtube.com/watch?v=8F2oK3u96Y8 (What is Quantum Mechanics? - Simple Explanation)\n",
            "\n",
            "I encourage you to explore further and discover the wonders of the quantum world!\n"
          ]
        }
      ]
    },
    {
      "cell_type": "markdown",
      "source": [
        "### Add Chains\n",
        "Prompt is already defined.\n",
        "Invoke the LLM with prompt and chain it to output_parser"
      ],
      "metadata": {
        "id": "0OzzruD7iOxQ"
      }
    },
    {
      "cell_type": "code",
      "source": [
        "from langchain_core.output_parsers import StrOutputParser"
      ],
      "metadata": {
        "id": "krd7ZsPnguYa"
      },
      "execution_count": 85,
      "outputs": []
    },
    {
      "cell_type": "code",
      "source": [
        "output_parser = StrOutputParser()"
      ],
      "metadata": {
        "id": "Cr4W7MgxgsX0"
      },
      "execution_count": 86,
      "outputs": []
    },
    {
      "cell_type": "code",
      "source": [
        "chain =  llm | output_parser"
      ],
      "metadata": {
        "id": "dx-S2eLFglrD"
      },
      "execution_count": 87,
      "outputs": []
    },
    {
      "cell_type": "code",
      "source": [
        "chained_output = chain.invoke(prompt)"
      ],
      "metadata": {
        "colab": {
          "base_uri": "https://localhost:8080/"
        },
        "id": "4eDTWTrdg9V4",
        "outputId": "221f2114-3f14-413f-ae6c-2e1cf93aae43"
      },
      "execution_count": 88,
      "outputs": [
        {
          "output_type": "stream",
          "name": "stdout",
          "text": [
            "\u001b[32;1m\u001b[1;3m[chain/start]\u001b[0m \u001b[1m[chain:RunnableSequence] Entering Chain run with input:\n",
            "\u001b[0m{\n",
            "  \"input\": \"System: You are a Physics Tutor\\nHuman: Explain the concept of Quantum mechanics\"\n",
            "}\n",
            "\u001b[32;1m\u001b[1;3m[llm/start]\u001b[0m \u001b[1m[chain:RunnableSequence > llm:ChatVertexAI] Entering LLM run with input:\n",
            "\u001b[0m{\n",
            "  \"prompts\": [\n",
            "    \"Human: System: You are a Physics Tutor\\nHuman: Explain the concept of Quantum mechanics\"\n",
            "  ]\n",
            "}\n",
            "\u001b[36;1m\u001b[1;3m[llm/end]\u001b[0m \u001b[1m[chain:RunnableSequence > llm:ChatVertexAI] [9.49s] Exiting LLM run with output:\n",
            "\u001b[0m{\n",
            "  \"generations\": [\n",
            "    [\n",
            "      {\n",
            "        \"text\": \"## Quantum Mechanics: A Crash Course\\n\\nWelcome! Today, we'll embark on a journey into the fascinating world of quantum mechanics. This realm governs the behavior of matter at the atomic and subatomic level, unveiling phenomena profoundly different from our everyday experiences. \\n\\n### Quantum Fundamentals\\nThe foundation of quantum mechanics rests on these principles:\\n\\n* **Quantization:** Energy, momentum, angular momentum, and other properties of subatomic particles exist in discrete packets called quanta. Imagine climbing a ladder – you can't occupy space between rungs. Similarly, a particle's energy can't exist between certain values.\\n* **Wave-particle duality:** Particles exhibit both wave-like and particle-like behaviors. Light, for instance, behaves like a wave, but in certain experiments, it interacts like a stream of particles called photons. This duality applies to all quantum objects.\\n* **Uncertainty principle:** It's impossible to know both a particle's position and momentum with perfect accuracy simultaneously. The more precisely you measure one, the less you can know about the other. Imagine aiming a flashlight at a moving object – the light alters the object's path, affecting your momentum measurement.\\n* **Superposition:** A quantum object can exist in multiple states simultaneously until measured. This is like flipping a coin; it's both heads and tails until observed. Upon measurement, the superposition collapses, and you get a definitive outcome – heads or tails.\\n* **Entanglement:** Two or more entangled particles are linked in a way that their destinies are intertwined, regardless of their physical separation. Measuring the state of one instantaneously reveals the state of the other, even across vast distances. It's like two coins flipping the same way, heads-heads or tails-tails, every time, no matter how far apart they are.\\n\\n### Quantum Implications\\n\\nThese bizarre quantum rules have profound implications:\\n\\n* **The Uncertainty Principle:** It limits what we can know about the universe at a fundamental level. This inherent fuzziness has major impacts in various scientific fields.\\n* **Wave Function Collapse:** The act of measurement fundamentally changes the quantum system being observed. This challenges traditional notions of objectivity in science.\\n* **Quantum Entanglement:** This spooky action at a distance leads to mind-bending paradoxes and raises questions about the nature of reality itself.\\n\\n### Quantum Applications: Unlocking Potential\\n\\nQuantum mechanics isn't just theoretical. It drives various cutting-edge technologies:\\n\\n* **Lasers:** Light amplification through stimulated emission of radiation is a direct outcome of quantum mechanics and has revolutionized numerous fields from medicine to communication.\\n* **Transistors:** Found in nearly every electronic device, these miniaturized switches utilize the quantum properties of semiconductors for their operation.\\n* **Quantum Computers:** These powerful machines harness the principles of superposition and entanglement to solve problems intractable for traditional computers, potentially leading to breakthroughs in materials science, medicine, and artificial intelligence.\\n\\n### Beyond the Basics\\n\\nThis crash course provides a springboard for delving deeper into the wonders of quantum mechanics. To explore further, I recommend these resources:\\n\\n* **Books:**\\n    * \\\"Quantum Mechanics: The Theoretical Minimum\\\" by Leonard Susskind and Art Friedman\\n    * \\\"Six Quantum Pieces\\\" by Richard Feynman\\n* **Websites:**\\n    * https://www.quantummechanics.org/\\n    * https://www.pbs.org/wgbh/nova/einstein/qm_index.html\\n* **Video Lectures:**\\n    * MIT OpenCourseware - Quantum Mechanics (8.04)\\n    * Khan Academy - Quantum Mechanics\\n\\nFeel free to ask if you'd like a more in-depth explanation of any specific quantum phenomenon or application!\",\n",
            "        \"generation_info\": {\n",
            "          \"is_blocked\": false,\n",
            "          \"safety_ratings\": [\n",
            "            {\n",
            "              \"category\": \"HARM_CATEGORY_HATE_SPEECH\",\n",
            "              \"probability_label\": \"NEGLIGIBLE\",\n",
            "              \"blocked\": false,\n",
            "              \"severity\": \"HARM_SEVERITY_NEGLIGIBLE\"\n",
            "            },\n",
            "            {\n",
            "              \"category\": \"HARM_CATEGORY_DANGEROUS_CONTENT\",\n",
            "              \"probability_label\": \"NEGLIGIBLE\",\n",
            "              \"blocked\": false,\n",
            "              \"severity\": \"HARM_SEVERITY_NEGLIGIBLE\"\n",
            "            },\n",
            "            {\n",
            "              \"category\": \"HARM_CATEGORY_HARASSMENT\",\n",
            "              \"probability_label\": \"NEGLIGIBLE\",\n",
            "              \"blocked\": false,\n",
            "              \"severity\": \"HARM_SEVERITY_NEGLIGIBLE\"\n",
            "            },\n",
            "            {\n",
            "              \"category\": \"HARM_CATEGORY_SEXUALLY_EXPLICIT\",\n",
            "              \"probability_label\": \"NEGLIGIBLE\",\n",
            "              \"blocked\": false,\n",
            "              \"severity\": \"HARM_SEVERITY_NEGLIGIBLE\"\n",
            "            }\n",
            "          ],\n",
            "          \"usage_metadata\": {\n",
            "            \"prompt_token_count\": 16,\n",
            "            \"candidates_token_count\": 760,\n",
            "            \"total_token_count\": 776\n",
            "          }\n",
            "        },\n",
            "        \"type\": \"ChatGeneration\",\n",
            "        \"message\": {\n",
            "          \"lc\": 1,\n",
            "          \"type\": \"constructor\",\n",
            "          \"id\": [\n",
            "            \"langchain\",\n",
            "            \"schema\",\n",
            "            \"messages\",\n",
            "            \"AIMessage\"\n",
            "          ],\n",
            "          \"kwargs\": {\n",
            "            \"content\": \"## Quantum Mechanics: A Crash Course\\n\\nWelcome! Today, we'll embark on a journey into the fascinating world of quantum mechanics. This realm governs the behavior of matter at the atomic and subatomic level, unveiling phenomena profoundly different from our everyday experiences. \\n\\n### Quantum Fundamentals\\nThe foundation of quantum mechanics rests on these principles:\\n\\n* **Quantization:** Energy, momentum, angular momentum, and other properties of subatomic particles exist in discrete packets called quanta. Imagine climbing a ladder – you can't occupy space between rungs. Similarly, a particle's energy can't exist between certain values.\\n* **Wave-particle duality:** Particles exhibit both wave-like and particle-like behaviors. Light, for instance, behaves like a wave, but in certain experiments, it interacts like a stream of particles called photons. This duality applies to all quantum objects.\\n* **Uncertainty principle:** It's impossible to know both a particle's position and momentum with perfect accuracy simultaneously. The more precisely you measure one, the less you can know about the other. Imagine aiming a flashlight at a moving object – the light alters the object's path, affecting your momentum measurement.\\n* **Superposition:** A quantum object can exist in multiple states simultaneously until measured. This is like flipping a coin; it's both heads and tails until observed. Upon measurement, the superposition collapses, and you get a definitive outcome – heads or tails.\\n* **Entanglement:** Two or more entangled particles are linked in a way that their destinies are intertwined, regardless of their physical separation. Measuring the state of one instantaneously reveals the state of the other, even across vast distances. It's like two coins flipping the same way, heads-heads or tails-tails, every time, no matter how far apart they are.\\n\\n### Quantum Implications\\n\\nThese bizarre quantum rules have profound implications:\\n\\n* **The Uncertainty Principle:** It limits what we can know about the universe at a fundamental level. This inherent fuzziness has major impacts in various scientific fields.\\n* **Wave Function Collapse:** The act of measurement fundamentally changes the quantum system being observed. This challenges traditional notions of objectivity in science.\\n* **Quantum Entanglement:** This spooky action at a distance leads to mind-bending paradoxes and raises questions about the nature of reality itself.\\n\\n### Quantum Applications: Unlocking Potential\\n\\nQuantum mechanics isn't just theoretical. It drives various cutting-edge technologies:\\n\\n* **Lasers:** Light amplification through stimulated emission of radiation is a direct outcome of quantum mechanics and has revolutionized numerous fields from medicine to communication.\\n* **Transistors:** Found in nearly every electronic device, these miniaturized switches utilize the quantum properties of semiconductors for their operation.\\n* **Quantum Computers:** These powerful machines harness the principles of superposition and entanglement to solve problems intractable for traditional computers, potentially leading to breakthroughs in materials science, medicine, and artificial intelligence.\\n\\n### Beyond the Basics\\n\\nThis crash course provides a springboard for delving deeper into the wonders of quantum mechanics. To explore further, I recommend these resources:\\n\\n* **Books:**\\n    * \\\"Quantum Mechanics: The Theoretical Minimum\\\" by Leonard Susskind and Art Friedman\\n    * \\\"Six Quantum Pieces\\\" by Richard Feynman\\n* **Websites:**\\n    * https://www.quantummechanics.org/\\n    * https://www.pbs.org/wgbh/nova/einstein/qm_index.html\\n* **Video Lectures:**\\n    * MIT OpenCourseware - Quantum Mechanics (8.04)\\n    * Khan Academy - Quantum Mechanics\\n\\nFeel free to ask if you'd like a more in-depth explanation of any specific quantum phenomenon or application!\",\n",
            "            \"response_metadata\": {\n",
            "              \"is_blocked\": false,\n",
            "              \"safety_ratings\": [\n",
            "                {\n",
            "                  \"category\": \"HARM_CATEGORY_HATE_SPEECH\",\n",
            "                  \"probability_label\": \"NEGLIGIBLE\",\n",
            "                  \"blocked\": false,\n",
            "                  \"severity\": \"HARM_SEVERITY_NEGLIGIBLE\"\n",
            "                },\n",
            "                {\n",
            "                  \"category\": \"HARM_CATEGORY_DANGEROUS_CONTENT\",\n",
            "                  \"probability_label\": \"NEGLIGIBLE\",\n",
            "                  \"blocked\": false,\n",
            "                  \"severity\": \"HARM_SEVERITY_NEGLIGIBLE\"\n",
            "                },\n",
            "                {\n",
            "                  \"category\": \"HARM_CATEGORY_HARASSMENT\",\n",
            "                  \"probability_label\": \"NEGLIGIBLE\",\n",
            "                  \"blocked\": false,\n",
            "                  \"severity\": \"HARM_SEVERITY_NEGLIGIBLE\"\n",
            "                },\n",
            "                {\n",
            "                  \"category\": \"HARM_CATEGORY_SEXUALLY_EXPLICIT\",\n",
            "                  \"probability_label\": \"NEGLIGIBLE\",\n",
            "                  \"blocked\": false,\n",
            "                  \"severity\": \"HARM_SEVERITY_NEGLIGIBLE\"\n",
            "                }\n",
            "              ],\n",
            "              \"usage_metadata\": {\n",
            "                \"prompt_token_count\": 16,\n",
            "                \"candidates_token_count\": 760,\n",
            "                \"total_token_count\": 776\n",
            "              }\n",
            "            },\n",
            "            \"type\": \"ai\",\n",
            "            \"id\": \"run-9bf4926b-ac6c-4bfa-9635-cd5738be1d93-0\",\n",
            "            \"usage_metadata\": {\n",
            "              \"input_tokens\": 16,\n",
            "              \"output_tokens\": 760,\n",
            "              \"total_tokens\": 776\n",
            "            },\n",
            "            \"tool_calls\": [],\n",
            "            \"invalid_tool_calls\": []\n",
            "          }\n",
            "        }\n",
            "      }\n",
            "    ]\n",
            "  ],\n",
            "  \"llm_output\": null,\n",
            "  \"run\": null\n",
            "}\n",
            "\u001b[32;1m\u001b[1;3m[chain/start]\u001b[0m \u001b[1m[chain:RunnableSequence > parser:StrOutputParser] Entering Parser run with input:\n",
            "\u001b[0m[inputs]\n",
            "\u001b[36;1m\u001b[1;3m[chain/end]\u001b[0m \u001b[1m[chain:RunnableSequence > parser:StrOutputParser] [1ms] Exiting Parser run with output:\n",
            "\u001b[0m{\n",
            "  \"output\": \"## Quantum Mechanics: A Crash Course\\n\\nWelcome! Today, we'll embark on a journey into the fascinating world of quantum mechanics. This realm governs the behavior of matter at the atomic and subatomic level, unveiling phenomena profoundly different from our everyday experiences. \\n\\n### Quantum Fundamentals\\nThe foundation of quantum mechanics rests on these principles:\\n\\n* **Quantization:** Energy, momentum, angular momentum, and other properties of subatomic particles exist in discrete packets called quanta. Imagine climbing a ladder – you can't occupy space between rungs. Similarly, a particle's energy can't exist between certain values.\\n* **Wave-particle duality:** Particles exhibit both wave-like and particle-like behaviors. Light, for instance, behaves like a wave, but in certain experiments, it interacts like a stream of particles called photons. This duality applies to all quantum objects.\\n* **Uncertainty principle:** It's impossible to know both a particle's position and momentum with perfect accuracy simultaneously. The more precisely you measure one, the less you can know about the other. Imagine aiming a flashlight at a moving object – the light alters the object's path, affecting your momentum measurement.\\n* **Superposition:** A quantum object can exist in multiple states simultaneously until measured. This is like flipping a coin; it's both heads and tails until observed. Upon measurement, the superposition collapses, and you get a definitive outcome – heads or tails.\\n* **Entanglement:** Two or more entangled particles are linked in a way that their destinies are intertwined, regardless of their physical separation. Measuring the state of one instantaneously reveals the state of the other, even across vast distances. It's like two coins flipping the same way, heads-heads or tails-tails, every time, no matter how far apart they are.\\n\\n### Quantum Implications\\n\\nThese bizarre quantum rules have profound implications:\\n\\n* **The Uncertainty Principle:** It limits what we can know about the universe at a fundamental level. This inherent fuzziness has major impacts in various scientific fields.\\n* **Wave Function Collapse:** The act of measurement fundamentally changes the quantum system being observed. This challenges traditional notions of objectivity in science.\\n* **Quantum Entanglement:** This spooky action at a distance leads to mind-bending paradoxes and raises questions about the nature of reality itself.\\n\\n### Quantum Applications: Unlocking Potential\\n\\nQuantum mechanics isn't just theoretical. It drives various cutting-edge technologies:\\n\\n* **Lasers:** Light amplification through stimulated emission of radiation is a direct outcome of quantum mechanics and has revolutionized numerous fields from medicine to communication.\\n* **Transistors:** Found in nearly every electronic device, these miniaturized switches utilize the quantum properties of semiconductors for their operation.\\n* **Quantum Computers:** These powerful machines harness the principles of superposition and entanglement to solve problems intractable for traditional computers, potentially leading to breakthroughs in materials science, medicine, and artificial intelligence.\\n\\n### Beyond the Basics\\n\\nThis crash course provides a springboard for delving deeper into the wonders of quantum mechanics. To explore further, I recommend these resources:\\n\\n* **Books:**\\n    * \\\"Quantum Mechanics: The Theoretical Minimum\\\" by Leonard Susskind and Art Friedman\\n    * \\\"Six Quantum Pieces\\\" by Richard Feynman\\n* **Websites:**\\n    * https://www.quantummechanics.org/\\n    * https://www.pbs.org/wgbh/nova/einstein/qm_index.html\\n* **Video Lectures:**\\n    * MIT OpenCourseware - Quantum Mechanics (8.04)\\n    * Khan Academy - Quantum Mechanics\\n\\nFeel free to ask if you'd like a more in-depth explanation of any specific quantum phenomenon or application!\"\n",
            "}\n",
            "\u001b[36;1m\u001b[1;3m[chain/end]\u001b[0m \u001b[1m[chain:RunnableSequence] [9.50s] Exiting Chain run with output:\n",
            "\u001b[0m{\n",
            "  \"output\": \"## Quantum Mechanics: A Crash Course\\n\\nWelcome! Today, we'll embark on a journey into the fascinating world of quantum mechanics. This realm governs the behavior of matter at the atomic and subatomic level, unveiling phenomena profoundly different from our everyday experiences. \\n\\n### Quantum Fundamentals\\nThe foundation of quantum mechanics rests on these principles:\\n\\n* **Quantization:** Energy, momentum, angular momentum, and other properties of subatomic particles exist in discrete packets called quanta. Imagine climbing a ladder – you can't occupy space between rungs. Similarly, a particle's energy can't exist between certain values.\\n* **Wave-particle duality:** Particles exhibit both wave-like and particle-like behaviors. Light, for instance, behaves like a wave, but in certain experiments, it interacts like a stream of particles called photons. This duality applies to all quantum objects.\\n* **Uncertainty principle:** It's impossible to know both a particle's position and momentum with perfect accuracy simultaneously. The more precisely you measure one, the less you can know about the other. Imagine aiming a flashlight at a moving object – the light alters the object's path, affecting your momentum measurement.\\n* **Superposition:** A quantum object can exist in multiple states simultaneously until measured. This is like flipping a coin; it's both heads and tails until observed. Upon measurement, the superposition collapses, and you get a definitive outcome – heads or tails.\\n* **Entanglement:** Two or more entangled particles are linked in a way that their destinies are intertwined, regardless of their physical separation. Measuring the state of one instantaneously reveals the state of the other, even across vast distances. It's like two coins flipping the same way, heads-heads or tails-tails, every time, no matter how far apart they are.\\n\\n### Quantum Implications\\n\\nThese bizarre quantum rules have profound implications:\\n\\n* **The Uncertainty Principle:** It limits what we can know about the universe at a fundamental level. This inherent fuzziness has major impacts in various scientific fields.\\n* **Wave Function Collapse:** The act of measurement fundamentally changes the quantum system being observed. This challenges traditional notions of objectivity in science.\\n* **Quantum Entanglement:** This spooky action at a distance leads to mind-bending paradoxes and raises questions about the nature of reality itself.\\n\\n### Quantum Applications: Unlocking Potential\\n\\nQuantum mechanics isn't just theoretical. It drives various cutting-edge technologies:\\n\\n* **Lasers:** Light amplification through stimulated emission of radiation is a direct outcome of quantum mechanics and has revolutionized numerous fields from medicine to communication.\\n* **Transistors:** Found in nearly every electronic device, these miniaturized switches utilize the quantum properties of semiconductors for their operation.\\n* **Quantum Computers:** These powerful machines harness the principles of superposition and entanglement to solve problems intractable for traditional computers, potentially leading to breakthroughs in materials science, medicine, and artificial intelligence.\\n\\n### Beyond the Basics\\n\\nThis crash course provides a springboard for delving deeper into the wonders of quantum mechanics. To explore further, I recommend these resources:\\n\\n* **Books:**\\n    * \\\"Quantum Mechanics: The Theoretical Minimum\\\" by Leonard Susskind and Art Friedman\\n    * \\\"Six Quantum Pieces\\\" by Richard Feynman\\n* **Websites:**\\n    * https://www.quantummechanics.org/\\n    * https://www.pbs.org/wgbh/nova/einstein/qm_index.html\\n* **Video Lectures:**\\n    * MIT OpenCourseware - Quantum Mechanics (8.04)\\n    * Khan Academy - Quantum Mechanics\\n\\nFeel free to ask if you'd like a more in-depth explanation of any specific quantum phenomenon or application!\"\n",
            "}\n"
          ]
        }
      ]
    },
    {
      "cell_type": "code",
      "source": [
        "chained_output"
      ],
      "metadata": {
        "colab": {
          "base_uri": "https://localhost:8080/",
          "height": 143
        },
        "id": "AMbLzmuFhG61",
        "outputId": "d52eb63e-8e13-43e8-9605-110e390acd55"
      },
      "execution_count": 89,
      "outputs": [
        {
          "output_type": "execute_result",
          "data": {
            "text/plain": [
              "'## Quantum Mechanics: A Crash Course\\n\\nWelcome! Today, we\\'ll embark on a journey into the fascinating world of quantum mechanics. This realm governs the behavior of matter at the atomic and subatomic level, unveiling phenomena profoundly different from our everyday experiences. \\n\\n### Quantum Fundamentals\\nThe foundation of quantum mechanics rests on these principles:\\n\\n* **Quantization:** Energy, momentum, angular momentum, and other properties of subatomic particles exist in discrete packets called quanta. Imagine climbing a ladder – you can\\'t occupy space between rungs. Similarly, a particle\\'s energy can\\'t exist between certain values.\\n* **Wave-particle duality:** Particles exhibit both wave-like and particle-like behaviors. Light, for instance, behaves like a wave, but in certain experiments, it interacts like a stream of particles called photons. This duality applies to all quantum objects.\\n* **Uncertainty principle:** It\\'s impossible to know both a particle\\'s position and momentum with perfect accuracy simultaneously. The more precisely you measure one, the less you can know about the other. Imagine aiming a flashlight at a moving object – the light alters the object\\'s path, affecting your momentum measurement.\\n* **Superposition:** A quantum object can exist in multiple states simultaneously until measured. This is like flipping a coin; it\\'s both heads and tails until observed. Upon measurement, the superposition collapses, and you get a definitive outcome – heads or tails.\\n* **Entanglement:** Two or more entangled particles are linked in a way that their destinies are intertwined, regardless of their physical separation. Measuring the state of one instantaneously reveals the state of the other, even across vast distances. It\\'s like two coins flipping the same way, heads-heads or tails-tails, every time, no matter how far apart they are.\\n\\n### Quantum Implications\\n\\nThese bizarre quantum rules have profound implications:\\n\\n* **The Uncertainty Principle:** It limits what we can know about the universe at a fundamental level. This inherent fuzziness has major impacts in various scientific fields.\\n* **Wave Function Collapse:** The act of measurement fundamentally changes the quantum system being observed. This challenges traditional notions of objectivity in science.\\n* **Quantum Entanglement:** This spooky action at a distance leads to mind-bending paradoxes and raises questions about the nature of reality itself.\\n\\n### Quantum Applications: Unlocking Potential\\n\\nQuantum mechanics isn\\'t just theoretical. It drives various cutting-edge technologies:\\n\\n* **Lasers:** Light amplification through stimulated emission of radiation is a direct outcome of quantum mechanics and has revolutionized numerous fields from medicine to communication.\\n* **Transistors:** Found in nearly every electronic device, these miniaturized switches utilize the quantum properties of semiconductors for their operation.\\n* **Quantum Computers:** These powerful machines harness the principles of superposition and entanglement to solve problems intractable for traditional computers, potentially leading to breakthroughs in materials science, medicine, and artificial intelligence.\\n\\n### Beyond the Basics\\n\\nThis crash course provides a springboard for delving deeper into the wonders of quantum mechanics. To explore further, I recommend these resources:\\n\\n* **Books:**\\n    * \"Quantum Mechanics: The Theoretical Minimum\" by Leonard Susskind and Art Friedman\\n    * \"Six Quantum Pieces\" by Richard Feynman\\n* **Websites:**\\n    * https://www.quantummechanics.org/\\n    * https://www.pbs.org/wgbh/nova/einstein/qm_index.html\\n* **Video Lectures:**\\n    * MIT OpenCourseware - Quantum Mechanics (8.04)\\n    * Khan Academy - Quantum Mechanics\\n\\nFeel free to ask if you\\'d like a more in-depth explanation of any specific quantum phenomenon or application!'"
            ],
            "application/vnd.google.colaboratory.intrinsic+json": {
              "type": "string"
            }
          },
          "metadata": {},
          "execution_count": 89
        }
      ]
    },
    {
      "cell_type": "code",
      "source": [
        "chain.input_schema.schema()"
      ],
      "metadata": {
        "colab": {
          "base_uri": "https://localhost:8080/"
        },
        "id": "ywXqwrBei9NN",
        "outputId": "21a54ba1-d2ff-4662-aeae-7c1f9879c690"
      },
      "execution_count": 90,
      "outputs": [
        {
          "output_type": "execute_result",
          "data": {
            "text/plain": [
              "{'title': 'ChatVertexAIInput',\n",
              " 'anyOf': [{'type': 'string'},\n",
              "  {'$ref': '#/definitions/StringPromptValue'},\n",
              "  {'$ref': '#/definitions/ChatPromptValueConcrete'},\n",
              "  {'type': 'array',\n",
              "   'items': {'anyOf': [{'$ref': '#/definitions/AIMessage'},\n",
              "     {'$ref': '#/definitions/HumanMessage'},\n",
              "     {'$ref': '#/definitions/ChatMessage'},\n",
              "     {'$ref': '#/definitions/SystemMessage'},\n",
              "     {'$ref': '#/definitions/FunctionMessage'},\n",
              "     {'$ref': '#/definitions/ToolMessage'}]}}],\n",
              " 'definitions': {'StringPromptValue': {'title': 'StringPromptValue',\n",
              "   'description': 'String prompt value.',\n",
              "   'type': 'object',\n",
              "   'properties': {'text': {'title': 'Text', 'type': 'string'},\n",
              "    'type': {'title': 'Type',\n",
              "     'default': 'StringPromptValue',\n",
              "     'enum': ['StringPromptValue'],\n",
              "     'type': 'string'}},\n",
              "   'required': ['text']},\n",
              "  'ToolCall': {'title': 'ToolCall',\n",
              "   'type': 'object',\n",
              "   'properties': {'name': {'title': 'Name', 'type': 'string'},\n",
              "    'args': {'title': 'Args', 'type': 'object'},\n",
              "    'id': {'title': 'Id', 'type': 'string'},\n",
              "    'type': {'title': 'Type', 'enum': ['tool_call'], 'type': 'string'}},\n",
              "   'required': ['name', 'args', 'id']},\n",
              "  'InvalidToolCall': {'title': 'InvalidToolCall',\n",
              "   'type': 'object',\n",
              "   'properties': {'name': {'title': 'Name', 'type': 'string'},\n",
              "    'args': {'title': 'Args', 'type': 'string'},\n",
              "    'id': {'title': 'Id', 'type': 'string'},\n",
              "    'error': {'title': 'Error', 'type': 'string'},\n",
              "    'type': {'title': 'Type',\n",
              "     'enum': ['invalid_tool_call'],\n",
              "     'type': 'string'}},\n",
              "   'required': ['name', 'args', 'id', 'error']},\n",
              "  'UsageMetadata': {'title': 'UsageMetadata',\n",
              "   'type': 'object',\n",
              "   'properties': {'input_tokens': {'title': 'Input Tokens', 'type': 'integer'},\n",
              "    'output_tokens': {'title': 'Output Tokens', 'type': 'integer'},\n",
              "    'total_tokens': {'title': 'Total Tokens', 'type': 'integer'}},\n",
              "   'required': ['input_tokens', 'output_tokens', 'total_tokens']},\n",
              "  'AIMessage': {'title': 'AIMessage',\n",
              "   'description': 'Message from an AI.\\n\\nAIMessage is returned from a chat model as a response to a prompt.\\n\\nThis message represents the output of the model and consists of both\\nthe raw output as returned by the model together standardized fields\\n(e.g., tool calls, usage metadata) added by the LangChain framework.',\n",
              "   'type': 'object',\n",
              "   'properties': {'content': {'title': 'Content',\n",
              "     'anyOf': [{'type': 'string'},\n",
              "      {'type': 'array',\n",
              "       'items': {'anyOf': [{'type': 'string'}, {'type': 'object'}]}}]},\n",
              "    'additional_kwargs': {'title': 'Additional Kwargs', 'type': 'object'},\n",
              "    'response_metadata': {'title': 'Response Metadata', 'type': 'object'},\n",
              "    'type': {'title': 'Type',\n",
              "     'default': 'ai',\n",
              "     'enum': ['ai'],\n",
              "     'type': 'string'},\n",
              "    'name': {'title': 'Name', 'type': 'string'},\n",
              "    'id': {'title': 'Id', 'type': 'string'},\n",
              "    'example': {'title': 'Example', 'default': False, 'type': 'boolean'},\n",
              "    'tool_calls': {'title': 'Tool Calls',\n",
              "     'default': [],\n",
              "     'type': 'array',\n",
              "     'items': {'$ref': '#/definitions/ToolCall'}},\n",
              "    'invalid_tool_calls': {'title': 'Invalid Tool Calls',\n",
              "     'default': [],\n",
              "     'type': 'array',\n",
              "     'items': {'$ref': '#/definitions/InvalidToolCall'}},\n",
              "    'usage_metadata': {'$ref': '#/definitions/UsageMetadata'}},\n",
              "   'required': ['content']},\n",
              "  'HumanMessage': {'title': 'HumanMessage',\n",
              "   'description': 'Message from a human.\\n\\nHumanMessages are messages that are passed in from a human to the model.\\n\\nExample:\\n\\n    .. code-block:: python\\n\\n        from langchain_core.messages import HumanMessage, SystemMessage\\n\\n        messages = [\\n            SystemMessage(\\n                content=\"You are a helpful assistant! Your name is Bob.\"\\n            ),\\n            HumanMessage(\\n                content=\"What is your name?\"\\n            )\\n        ]\\n\\n        # Instantiate a chat model and invoke it with the messages\\n        model = ...\\n        print(model.invoke(messages))',\n",
              "   'type': 'object',\n",
              "   'properties': {'content': {'title': 'Content',\n",
              "     'anyOf': [{'type': 'string'},\n",
              "      {'type': 'array',\n",
              "       'items': {'anyOf': [{'type': 'string'}, {'type': 'object'}]}}]},\n",
              "    'additional_kwargs': {'title': 'Additional Kwargs', 'type': 'object'},\n",
              "    'response_metadata': {'title': 'Response Metadata', 'type': 'object'},\n",
              "    'type': {'title': 'Type',\n",
              "     'default': 'human',\n",
              "     'enum': ['human'],\n",
              "     'type': 'string'},\n",
              "    'name': {'title': 'Name', 'type': 'string'},\n",
              "    'id': {'title': 'Id', 'type': 'string'},\n",
              "    'example': {'title': 'Example', 'default': False, 'type': 'boolean'}},\n",
              "   'required': ['content']},\n",
              "  'ChatMessage': {'title': 'ChatMessage',\n",
              "   'description': 'Message that can be assigned an arbitrary speaker (i.e. role).',\n",
              "   'type': 'object',\n",
              "   'properties': {'content': {'title': 'Content',\n",
              "     'anyOf': [{'type': 'string'},\n",
              "      {'type': 'array',\n",
              "       'items': {'anyOf': [{'type': 'string'}, {'type': 'object'}]}}]},\n",
              "    'additional_kwargs': {'title': 'Additional Kwargs', 'type': 'object'},\n",
              "    'response_metadata': {'title': 'Response Metadata', 'type': 'object'},\n",
              "    'type': {'title': 'Type',\n",
              "     'default': 'chat',\n",
              "     'enum': ['chat'],\n",
              "     'type': 'string'},\n",
              "    'name': {'title': 'Name', 'type': 'string'},\n",
              "    'id': {'title': 'Id', 'type': 'string'},\n",
              "    'role': {'title': 'Role', 'type': 'string'}},\n",
              "   'required': ['content', 'role']},\n",
              "  'SystemMessage': {'title': 'SystemMessage',\n",
              "   'description': 'Message for priming AI behavior.\\n\\nThe system message is usually passed in as the first of a sequence\\nof input messages.\\n\\nExample:\\n\\n    .. code-block:: python\\n\\n        from langchain_core.messages import HumanMessage, SystemMessage\\n\\n        messages = [\\n            SystemMessage(\\n                content=\"You are a helpful assistant! Your name is Bob.\"\\n            ),\\n            HumanMessage(\\n                content=\"What is your name?\"\\n            )\\n        ]\\n\\n        # Define a chat model and invoke it with the messages\\n        print(model.invoke(messages))',\n",
              "   'type': 'object',\n",
              "   'properties': {'content': {'title': 'Content',\n",
              "     'anyOf': [{'type': 'string'},\n",
              "      {'type': 'array',\n",
              "       'items': {'anyOf': [{'type': 'string'}, {'type': 'object'}]}}]},\n",
              "    'additional_kwargs': {'title': 'Additional Kwargs', 'type': 'object'},\n",
              "    'response_metadata': {'title': 'Response Metadata', 'type': 'object'},\n",
              "    'type': {'title': 'Type',\n",
              "     'default': 'system',\n",
              "     'enum': ['system'],\n",
              "     'type': 'string'},\n",
              "    'name': {'title': 'Name', 'type': 'string'},\n",
              "    'id': {'title': 'Id', 'type': 'string'}},\n",
              "   'required': ['content']},\n",
              "  'FunctionMessage': {'title': 'FunctionMessage',\n",
              "   'description': 'Message for passing the result of executing a tool back to a model.\\n\\nFunctionMessage are an older version of the ToolMessage schema, and\\ndo not contain the tool_call_id field.\\n\\nThe tool_call_id field is used to associate the tool call request with the\\ntool call response. This is useful in situations where a chat model is able\\nto request multiple tool calls in parallel.',\n",
              "   'type': 'object',\n",
              "   'properties': {'content': {'title': 'Content',\n",
              "     'anyOf': [{'type': 'string'},\n",
              "      {'type': 'array',\n",
              "       'items': {'anyOf': [{'type': 'string'}, {'type': 'object'}]}}]},\n",
              "    'additional_kwargs': {'title': 'Additional Kwargs', 'type': 'object'},\n",
              "    'response_metadata': {'title': 'Response Metadata', 'type': 'object'},\n",
              "    'type': {'title': 'Type',\n",
              "     'default': 'function',\n",
              "     'enum': ['function'],\n",
              "     'type': 'string'},\n",
              "    'name': {'title': 'Name', 'type': 'string'},\n",
              "    'id': {'title': 'Id', 'type': 'string'}},\n",
              "   'required': ['content', 'name']},\n",
              "  'ToolMessage': {'title': 'ToolMessage',\n",
              "   'description': 'Message for passing the result of executing a tool back to a model.\\n\\nToolMessages contain the result of a tool invocation. Typically, the result\\nis encoded inside the `content` field.\\n\\nExample: A ToolMessage representing a result of 42 from a tool call with id\\n\\n    .. code-block:: python\\n\\n        from langchain_core.messages import ToolMessage\\n\\n        ToolMessage(content=\\'42\\', tool_call_id=\\'call_Jja7J89XsjrOLA5r!MEOW!SL\\')\\n\\n\\nExample: A ToolMessage where only part of the tool output is sent to the model\\n    and the full output is passed in to artifact.\\n\\n    .. versionadded:: 0.2.17\\n\\n    .. code-block:: python\\n\\n        from langchain_core.messages import ToolMessage\\n\\n        tool_output = {\\n            \"stdout\": \"From the graph we can see that the correlation between x and y is ...\",\\n            \"stderr\": None,\\n            \"artifacts\": {\"type\": \"image\", \"base64_data\": \"/9j/4gIcSU...\"},\\n        }\\n\\n        ToolMessage(\\n            content=tool_output[\"stdout\"],\\n            artifact=tool_output,\\n            tool_call_id=\\'call_Jja7J89XsjrOLA5r!MEOW!SL\\',\\n        )\\n\\nThe tool_call_id field is used to associate the tool call request with the\\ntool call response. This is useful in situations where a chat model is able\\nto request multiple tool calls in parallel.',\n",
              "   'type': 'object',\n",
              "   'properties': {'content': {'title': 'Content',\n",
              "     'anyOf': [{'type': 'string'},\n",
              "      {'type': 'array',\n",
              "       'items': {'anyOf': [{'type': 'string'}, {'type': 'object'}]}}]},\n",
              "    'additional_kwargs': {'title': 'Additional Kwargs', 'type': 'object'},\n",
              "    'response_metadata': {'title': 'Response Metadata', 'type': 'object'},\n",
              "    'type': {'title': 'Type',\n",
              "     'default': 'tool',\n",
              "     'enum': ['tool'],\n",
              "     'type': 'string'},\n",
              "    'name': {'title': 'Name', 'type': 'string'},\n",
              "    'id': {'title': 'Id', 'type': 'string'},\n",
              "    'tool_call_id': {'title': 'Tool Call Id', 'type': 'string'},\n",
              "    'artifact': {'title': 'Artifact'}},\n",
              "   'required': ['content', 'tool_call_id']},\n",
              "  'ChatPromptValueConcrete': {'title': 'ChatPromptValueConcrete',\n",
              "   'description': 'Chat prompt value which explicitly lists out the message types it accepts.\\nFor use in external schemas.',\n",
              "   'type': 'object',\n",
              "   'properties': {'messages': {'title': 'Messages',\n",
              "     'type': 'array',\n",
              "     'items': {'anyOf': [{'$ref': '#/definitions/AIMessage'},\n",
              "       {'$ref': '#/definitions/HumanMessage'},\n",
              "       {'$ref': '#/definitions/ChatMessage'},\n",
              "       {'$ref': '#/definitions/SystemMessage'},\n",
              "       {'$ref': '#/definitions/FunctionMessage'},\n",
              "       {'$ref': '#/definitions/ToolMessage'}]}},\n",
              "    'type': {'title': 'Type',\n",
              "     'default': 'ChatPromptValueConcrete',\n",
              "     'enum': ['ChatPromptValueConcrete'],\n",
              "     'type': 'string'}},\n",
              "   'required': ['messages']}}}"
            ]
          },
          "metadata": {},
          "execution_count": 90
        }
      ]
    },
    {
      "cell_type": "code",
      "source": [
        "chain.output_schema.schema()"
      ],
      "metadata": {
        "colab": {
          "base_uri": "https://localhost:8080/"
        },
        "id": "_5b1HkkyjDJG",
        "outputId": "14eab3e0-26b8-461b-dad2-81de1b1e2835"
      },
      "execution_count": 91,
      "outputs": [
        {
          "output_type": "execute_result",
          "data": {
            "text/plain": [
              "{'title': 'StrOutputParserOutput', 'type': 'string'}"
            ]
          },
          "metadata": {},
          "execution_count": 91
        }
      ]
    }
  ]
}